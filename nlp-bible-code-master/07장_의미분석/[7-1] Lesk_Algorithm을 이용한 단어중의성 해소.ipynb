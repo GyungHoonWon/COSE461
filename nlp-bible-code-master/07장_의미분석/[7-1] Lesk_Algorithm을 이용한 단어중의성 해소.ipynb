{
 "cells": [
  {
   "cell_type": "markdown",
   "metadata": {
    "colab_type": "text",
    "id": "2V5YBS-bs3gW"
   },
   "source": [
    "***nltk 패키지 다운로드***"
   ]
  },
  {
   "cell_type": "code",
   "execution_count": 8,
   "metadata": {
    "colab": {
     "base_uri": "https://localhost:8080/",
     "height": 53
    },
    "colab_type": "code",
    "id": "AzwbJnE-siDh",
    "outputId": "f5f7b5e9-e99b-4e49-eec2-40c140b0f1f5"
   },
   "outputs": [
    {
     "name": "stdout",
     "output_type": "stream",
     "text": [
      "Requirement already satisfied: nltk==3.3 in /Library/Frameworks/Python.framework/Versions/3.8/lib/python3.8/site-packages (3.3)\n",
      "Requirement already satisfied: six in /Library/Frameworks/Python.framework/Versions/3.8/lib/python3.8/site-packages (from nltk==3.3) (1.14.0)\n",
      "Collecting nltk\n",
      "  Downloading nltk-3.4.5.zip (1.5 MB)\n",
      "\u001b[K     |████████████████████████████████| 1.5 MB 1.1 MB/s eta 0:00:01\n",
      "\u001b[?25hRequirement already satisfied, skipping upgrade: six in /Library/Frameworks/Python.framework/Versions/3.8/lib/python3.8/site-packages (from nltk) (1.14.0)\n",
      "Installing collected packages: nltk\n",
      "    Running setup.py install for nltk ... \u001b[?25ldone\n",
      "\u001b[?25hSuccessfully installed nltk-3.4.5\n"
     ]
    }
   ],
   "source": [
    "!pip3 install nltk==3.3\n",
    "!pip install --user -U nltk"
   ]
  },
  {
   "cell_type": "markdown",
   "metadata": {
    "colab_type": "text",
    "id": "Po12R4oGtz6S"
   },
   "source": [
    "***wordnet 관련 패키지 nltk import***"
   ]
  },
  {
   "cell_type": "code",
   "execution_count": 1,
   "metadata": {
    "colab": {
     "base_uri": "https://localhost:8080/",
     "height": 125
    },
    "colab_type": "code",
    "id": "SknqGJv6tCW-",
    "outputId": "59708cc4-ba2e-43b4-861e-062fe6d7032a"
   },
   "outputs": [
    {
     "name": "stdout",
     "output_type": "stream",
     "text": [
      "showing info https://raw.githubusercontent.com/nltk/nltk_data/gh-pages/index.xml\n"
     ]
    },
    {
     "name": "stderr",
     "output_type": "stream",
     "text": [
      "[nltk_data] Downloading package wordnet to\n",
      "[nltk_data]     /Users/edwardwon/nltk_data...\n",
      "[nltk_data]   Package wordnet is already up-to-date!\n",
      "[nltk_data] Downloading package punkt to /Users/edwardwon/nltk_data...\n",
      "[nltk_data]   Package punkt is already up-to-date!\n",
      "[nltk_data] Downloading package stopwords to\n",
      "[nltk_data]     /Users/edwardwon/nltk_data...\n",
      "[nltk_data]   Package stopwords is already up-to-date!\n"
     ]
    }
   ],
   "source": [
    "import sys\n",
    "import nltk\n",
    "nltk.download()\n",
    "nltk.download('wordnet')\n",
    "nltk.download('punkt')\n",
    "nltk.download('stopwords')\n",
    "from nltk.corpus import wordnet \n",
    "from nltk import word_tokenize\n",
    "from nltk.corpus import stopwords"
   ]
  },
  {
   "cell_type": "markdown",
   "metadata": {
    "colab_type": "text",
    "id": "uCfx2tE3uOVe"
   },
   "source": [
    "***단어와  문장에 나타난 단어에 대해  Best Sense 추출***"
   ]
  },
  {
   "cell_type": "code",
   "execution_count": 2,
   "metadata": {
    "colab": {},
    "colab_type": "code",
    "id": "8I3ysskcBpYI"
   },
   "outputs": [],
   "source": [
    "def disambiguate(word, sentence, stopwords):\n",
    "        # Best sense 를 얻기위한 Lesk 알고리즘을 작성해보세요.\n",
    "        \n",
    "        word_senses = wordnet.synsets(word)\n",
    "        best_sense = word_senses[0]  # Assume that first sense is most freq.\n",
    "        max_overlap = 0\n",
    "        context = set(word_tokenize(sentence))\n",
    "        for sense in word_senses:\n",
    "            signature = tokenized_gloss(sense)\n",
    "            overlap = compute_overlap(signature, context, stopwords)\n",
    "            if overlap > max_overlap:\n",
    "                max_overlap = overlap\n",
    "                best_sense = sense\n",
    "                \n",
    "        return best_sense"
   ]
  },
  {
   "cell_type": "markdown",
   "metadata": {
    "colab_type": "text",
    "id": "olCLCgPeBv76"
   },
   "source": [
    "***sense의 definition에 대한 모든 token 추출***"
   ]
  },
  {
   "cell_type": "code",
   "execution_count": 3,
   "metadata": {
    "colab": {},
    "colab_type": "code",
    "id": "8GrMe88tC1SM"
   },
   "outputs": [],
   "source": [
    "def tokenized_gloss(sense):\n",
    "        tokens = set(word_tokenize(sense.definition()))\n",
    "        for example in sense.examples():\n",
    "            tokens.union(set(word_tokenize(example)))\n",
    "        return tokens"
   ]
  },
  {
   "cell_type": "markdown",
   "metadata": {
    "colab_type": "text",
    "id": "Kk0kzsW6BwvS"
   },
   "source": [
    "***겹치는 단어 비교***"
   ]
  },
  {
   "cell_type": "code",
   "execution_count": 4,
   "metadata": {
    "colab": {},
    "colab_type": "code",
    "id": "gcduxEp5DH-T"
   },
   "outputs": [],
   "source": [
    "def compute_overlap(signature, context, stopwords):\n",
    "        gloss = signature.difference(stopwords)\n",
    "        return len(gloss.intersection(context))"
   ]
  },
  {
   "cell_type": "markdown",
   "metadata": {
    "colab_type": "text",
    "id": "_WbpC6W6uXDz"
   },
   "source": [
    "***Main***"
   ]
  },
  {
   "cell_type": "code",
   "execution_count": 5,
   "metadata": {
    "colab": {
     "base_uri": "https://localhost:8080/",
     "height": 143
    },
    "colab_type": "code",
    "id": "xdqUjnqLuZJh",
    "outputId": "7799407e-975b-445e-bb44-fa5727f012da"
   },
   "outputs": [
    {
     "name": "stdout",
     "output_type": "stream",
     "text": [
      "Word : eat\n",
      "Sense : eat.v.02\n",
      "Definition : eat a meal; take a meal\n",
      "Sentence : They eat a meal\n",
      "{'eat', 'take', ';', 'meal', 'a'}\n",
      "2\n",
      "Best sense:  Synset('eat.v.02')\n"
     ]
    }
   ],
   "source": [
    "stopwords = set(stopwords.words('english'))# NLTK에서 지정한 영어 불용어 처리 ex) i, my, they...\n",
    "sentence = (\"They eat a meal\")\n",
    "context = set(word_tokenize(sentence))\n",
    "word = 'eat'\n",
    "\n",
    "print(\"Word :\", word)\n",
    "syn = wordnet.synsets('eat')[1]\n",
    "print(\"Sense :\", syn.name())\n",
    "print(\"Definition :\", syn.definition())\n",
    "print(\"Sentence :\", sentence)\n",
    "\n",
    "signature = tokenized_gloss(syn)\n",
    "print(signature)\n",
    "print(compute_overlap(signature, context, stopwords))\n",
    "print(\"Best sense: \", disambiguate(word, sentence, stopwords))"
   ]
  },
  {
   "cell_type": "code",
   "execution_count": null,
   "metadata": {},
   "outputs": [],
   "source": []
  }
 ],
 "metadata": {
  "colab": {
   "collapsed_sections": [],
   "name": "Lesk_Algorithm_실습.ipynb",
   "provenance": []
  },
  "kernelspec": {
   "display_name": "Python 3",
   "language": "python",
   "name": "python3"
  },
  "language_info": {
   "codemirror_mode": {
    "name": "ipython",
    "version": 3
   },
   "file_extension": ".py",
   "mimetype": "text/x-python",
   "name": "python",
   "nbconvert_exporter": "python",
   "pygments_lexer": "ipython3",
   "version": "3.8.2"
  }
 },
 "nbformat": 4,
 "nbformat_minor": 1
}
