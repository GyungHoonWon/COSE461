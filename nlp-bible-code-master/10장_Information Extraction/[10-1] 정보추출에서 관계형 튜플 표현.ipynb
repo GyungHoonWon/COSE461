{
  "nbformat": 4,
  "nbformat_minor": 0,
  "metadata": {
    "colab": {
      "name": "실습 [10-1] 정보추출에서 관계형 튜플 표현",
      "provenance": [],
      "collapsed_sections": []
    },
    "kernelspec": {
      "name": "python3",
      "display_name": "Python 3"
    }
  },
  "cells": [
    {
      "cell_type": "markdown",
      "metadata": {
        "id": "zJ96Ya4Jbahq",
        "colab_type": "text"
      },
      "source": [
        "# **실습 10-1**"
      ]
    },
    {
      "cell_type": "code",
      "metadata": {
        "id": "R3OVX0oMYVQo",
        "colab_type": "code",
        "colab": {}
      },
      "source": [
        "# [표11-1]의 예를 바탕으로 한 구조화된 데이터\n",
        "locs = [('고려대학교', 'In', '서울'),\n",
        "        ('Naver', 'In', '성남'),\n",
        "        ('KT 위즈', 'In', '수원'),\n",
        "        ('한화 이글스', 'In', '대전'),\n",
        "        ('NC 소프트', 'In', '성남'),\n",
        "        ('삼성', 'In', '서울')]       "
      ],
      "execution_count": 0,
      "outputs": []
    },
    {
      "cell_type": "code",
      "metadata": {
        "id": "BPLJyN7gYzts",
        "colab_type": "code",
        "outputId": "7ff8751e-48d1-4745-86c1-49d6e0ed970f",
        "colab": {
          "base_uri": "https://localhost:8080/",
          "height": 34
        }
      },
      "source": [
        "# 서울에 있는 기관 출력 \n",
        "query = []\n",
        "\n",
        "for (e1, rel, e2) in locs:\n",
        "  if e2=='서울':\n",
        "    query.append(e1)\n",
        "\n",
        "print(query)"
      ],
      "execution_count": 0,
      "outputs": [
        {
          "output_type": "stream",
          "text": [
            "['고려대학교', '삼성']\n"
          ],
          "name": "stdout"
        }
      ]
    }
  ]
}