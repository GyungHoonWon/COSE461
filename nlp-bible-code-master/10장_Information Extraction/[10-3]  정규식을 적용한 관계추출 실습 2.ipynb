{
  "nbformat": 4,
  "nbformat_minor": 0,
  "metadata": {
    "colab": {
      "name": "실습 [10-3] 정규식을 적용한 관계추출 실습 2",
      "provenance": []
    },
    "kernelspec": {
      "name": "python3",
      "display_name": "Python 3"
    }
  },
  "cells": [
    {
      "cell_type": "markdown",
      "metadata": {
        "id": "FtKf8rWCCcF1",
        "colab_type": "text"
      },
      "source": [
        "# **실습 10-3**\n",
        "\n"
      ]
    },
    {
      "cell_type": "code",
      "metadata": {
        "id": "sFs8dNDMCbJw",
        "colab_type": "code",
        "colab": {
          "base_uri": "https://localhost:8080/",
          "height": 51
        },
        "outputId": "44decabc-403e-4a60-da66-04ccc949b318"
      },
      "source": [
        "import nltk\n",
        "from nltk.corpus import conll2002\n",
        "nltk.download('conll2002')\n",
        "import re"
      ],
      "execution_count": 1,
      "outputs": [
        {
          "output_type": "stream",
          "text": [
            "[nltk_data] Downloading package conll2002 to /root/nltk_data...\n",
            "[nltk_data]   Unzipping corpora/conll2002.zip.\n"
          ],
          "name": "stdout"
        }
      ]
    },
    {
      "cell_type": "code",
      "metadata": {
        "id": "XGMel5kCChtk",
        "colab_type": "code",
        "colab": {
          "base_uri": "https://localhost:8080/",
          "height": 68
        },
        "outputId": "6c36d400-67fd-4c53-fc4a-053a48339bf0"
      },
      "source": [
        "# 여러개 정규식 추가\n",
        "vnv = \"\"\"\n",
        " (\n",
        " is/V|   \n",
        " was/V|   \n",
        " werd/V|  \n",
        " wordt/V  \n",
        " )\n",
        " .*       \n",
        " van/Prep \n",
        " \"\"\"\n",
        "\n",
        "# 정규식을 기준으로 전처리\n",
        "VAN = re.compile (vnv, re.VERBOSE)\n",
        "\n",
        "# conll2002 코퍼스에 대한 관계 추출\n",
        "for doc in conll2002.chunked_sents('ned.train'):\n",
        "  # print(\"doc : \", doc)\n",
        "  for rel in nltk.sem.extract_rels('PER', 'ORG', doc, corpus='conll2002', pattern=VAN):\n",
        "    # 네덜란드어의 관계\n",
        "    print(\"\", nltk.sem.clause(rel, relsym=\"VAN\"))\n",
        "    \"\"\"기본 10 단어 창 내에서 두 NE와 왼쪽 및 오른쪽 컨텍스트 사이에 개입하는 실제 단어가 표시됨. \n",
        "    네덜란드어 사전을 사용하면 결과 VAN ( 'annie_lennox' , 'eurythmics' ) 이 왜 틀린지 알 수 있음\"\"\"\n",
        "    # print (nltk.rtuple(rel, lcon=True , rcon=True ))\n"
      ],
      "execution_count": 2,
      "outputs": [
        {
          "output_type": "stream",
          "text": [
            " VAN(\"cornet_d'elzius\", 'buitenlandse_handel')\n",
            " VAN('johan_rottiers', 'kardinaal_van_roey_instituut')\n",
            " VAN('annie_lennox', 'eurythmics')\n"
          ],
          "name": "stdout"
        }
      ]
    }
  ]
}