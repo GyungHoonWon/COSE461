{
 "cells": [
  {
   "cell_type": "code",
   "execution_count": 1,
   "metadata": {
    "colab": {
     "base_uri": "https://localhost:8080/",
     "height": 581
    },
    "colab_type": "code",
    "id": "oWgM3O12bEAo",
    "outputId": "24ba29b5-699c-4722-f4cf-92bc843f0823"
   },
   "outputs": [
    {
     "name": "stdout",
     "output_type": "stream",
     "text": [
      "\u001b[33mDEPRECATION: Python 2.7 reached the end of its life on January 1st, 2020. Please upgrade your Python as Python 2.7 is no longer maintained. A future version of pip will drop support for Python 2.7. More details about Python 2 support in pip, can be found at https://pip.pypa.io/en/latest/development/release-process/#python-2-support\u001b[0m\n",
      "Defaulting to user installation because normal site-packages is not writeable\n",
      "Collecting konlpy\n",
      "  Downloading konlpy-0.5.2-py2.py3-none-any.whl (19.4 MB)\n",
      "\u001b[K     |████████████████████████████████| 19.4 MB 1.0 MB/s eta 0:00:01\n",
      "\u001b[?25hRequirement already satisfied: numpy>=1.6 in /System/Library/Frameworks/Python.framework/Versions/2.7/Extras/lib/python (from konlpy) (1.8.0rc1)\n",
      "Collecting beautifulsoup4==4.6.0\n",
      "  Downloading beautifulsoup4-4.6.0-py2-none-any.whl (86 kB)\n",
      "\u001b[K     |████████████████████████████████| 86 kB 15.2 MB/s eta 0:00:01\n",
      "\u001b[?25hCollecting tweepy>=3.7.0\n",
      "  Downloading tweepy-3.8.0-py2.py3-none-any.whl (28 kB)\n",
      "Collecting JPype1>=0.7.0\n",
      "  Downloading JPype1-0.7.2.tar.gz (537 kB)\n",
      "\u001b[K     |████████████████████████████████| 537 kB 71.6 MB/s eta 0:00:01\n",
      "\u001b[?25hCollecting lxml>=4.1.0\n",
      "  Downloading lxml-4.5.0-cp27-cp27m-macosx_10_9_x86_64.whl (4.5 MB)\n",
      "\u001b[K     |████████████████████████████████| 4.5 MB 29.6 MB/s eta 0:00:01\n",
      "\u001b[?25hCollecting colorama\n",
      "  Downloading colorama-0.4.3-py2.py3-none-any.whl (15 kB)\n",
      "Requirement already satisfied: six>=1.10.0 in /System/Library/Frameworks/Python.framework/Versions/2.7/Extras/lib/python (from tweepy>=3.7.0->konlpy) (1.12.0)\n",
      "Collecting requests>=2.11.1\n",
      "  Downloading requests-2.23.0-py2.py3-none-any.whl (58 kB)\n",
      "\u001b[K     |████████████████████████████████| 58 kB 14.4 MB/s eta 0:00:01\n",
      "\u001b[?25hCollecting requests-oauthlib>=0.7.0\n",
      "  Downloading requests_oauthlib-1.3.0-py2.py3-none-any.whl (23 kB)\n",
      "Collecting PySocks>=1.5.7\n",
      "  Downloading PySocks-1.7.1-py27-none-any.whl (16 kB)\n",
      "Collecting idna<3,>=2.5\n",
      "  Downloading idna-2.9-py2.py3-none-any.whl (58 kB)\n",
      "\u001b[K     |████████████████████████████████| 58 kB 21.5 MB/s eta 0:00:01\n",
      "\u001b[?25hCollecting chardet<4,>=3.0.2\n",
      "  Downloading chardet-3.0.4-py2.py3-none-any.whl (133 kB)\n",
      "\u001b[K     |████████████████████████████████| 133 kB 81.0 MB/s eta 0:00:01\n",
      "\u001b[?25hCollecting urllib3!=1.25.0,!=1.25.1,<1.26,>=1.21.1\n",
      "  Downloading urllib3-1.25.8-py2.py3-none-any.whl (125 kB)\n",
      "\u001b[K     |████████████████████████████████| 125 kB 83.9 MB/s eta 0:00:01\n",
      "\u001b[?25hCollecting certifi>=2017.4.17\n",
      "  Downloading certifi-2019.11.28-py2.py3-none-any.whl (156 kB)\n",
      "\u001b[K     |████████████████████████████████| 156 kB 79.5 MB/s eta 0:00:01\n",
      "\u001b[?25hCollecting oauthlib>=3.0.0\n",
      "  Downloading oauthlib-3.1.0-py2.py3-none-any.whl (147 kB)\n",
      "\u001b[K     |████████████████████████████████| 147 kB 69.0 MB/s eta 0:00:01\n",
      "\u001b[?25hBuilding wheels for collected packages: JPype1\n",
      "  Building wheel for JPype1 (setup.py) ... \u001b[?25lerror\n",
      "\u001b[31m  ERROR: Command errored out with exit status 1:\n",
      "   command: /System/Library/Frameworks/Python.framework/Versions/2.7/Resources/Python.app/Contents/MacOS/Python -u -c 'import sys, setuptools, tokenize; sys.argv[0] = '\"'\"'/private/var/folders/ty/z77rd5m11vjf2hj2nn29g77m0000gn/T/pip-install-q0QQij/JPype1/setup.py'\"'\"'; __file__='\"'\"'/private/var/folders/ty/z77rd5m11vjf2hj2nn29g77m0000gn/T/pip-install-q0QQij/JPype1/setup.py'\"'\"';f=getattr(tokenize, '\"'\"'open'\"'\"', open)(__file__);code=f.read().replace('\"'\"'\\r\\n'\"'\"', '\"'\"'\\n'\"'\"');f.close();exec(compile(code, __file__, '\"'\"'exec'\"'\"'))' bdist_wheel -d /private/var/folders/ty/z77rd5m11vjf2hj2nn29g77m0000gn/T/pip-wheel-HQDPcf\n",
      "       cwd: /private/var/folders/ty/z77rd5m11vjf2hj2nn29g77m0000gn/T/pip-install-q0QQij/JPype1/\n",
      "  Complete output (93 lines):\n",
      "  /System/Library/Frameworks/Python.framework/Versions/2.7/lib/python2.7/distutils/dist.py:267: UserWarning: Unknown distribution option: 'use_scm_version'\n",
      "    warnings.warn(msg)\n",
      "  running bdist_wheel\n",
      "  running build\n",
      "  running build_py\n",
      "  creating build\n",
      "  creating build/lib.macosx-10.15-x86_64-2.7\n",
      "  creating build/lib.macosx-10.15-x86_64-2.7/jpype\n",
      "  copying jpype/_jcollection.py -> build/lib.macosx-10.15-x86_64-2.7/jpype\n",
      "  copying jpype/_jcomparable.py -> build/lib.macosx-10.15-x86_64-2.7/jpype\n",
      "  copying jpype/_classpath.py -> build/lib.macosx-10.15-x86_64-2.7/jpype\n",
      "  copying jpype/_jio.py -> build/lib.macosx-10.15-x86_64-2.7/jpype\n",
      "  copying jpype/_jtypes.py -> build/lib.macosx-10.15-x86_64-2.7/jpype\n",
      "  copying jpype/_pykeywords.py -> build/lib.macosx-10.15-x86_64-2.7/jpype\n",
      "  copying jpype/_jproxy.py -> build/lib.macosx-10.15-x86_64-2.7/jpype\n",
      "  copying jpype/_gui.py -> build/lib.macosx-10.15-x86_64-2.7/jpype\n",
      "  copying jpype/_darwin.py -> build/lib.macosx-10.15-x86_64-2.7/jpype\n",
      "  copying jpype/_jmethod.py -> build/lib.macosx-10.15-x86_64-2.7/jpype\n",
      "  copying jpype/nio.py -> build/lib.macosx-10.15-x86_64-2.7/jpype\n",
      "  copying jpype/_jstring.py -> build/lib.macosx-10.15-x86_64-2.7/jpype\n",
      "  copying jpype/_cygwin.py -> build/lib.macosx-10.15-x86_64-2.7/jpype\n",
      "  copying jpype/__init__.py -> build/lib.macosx-10.15-x86_64-2.7/jpype\n",
      "  copying jpype/types.py -> build/lib.macosx-10.15-x86_64-2.7/jpype\n",
      "  copying jpype/beans.py -> build/lib.macosx-10.15-x86_64-2.7/jpype\n",
      "  copying jpype/_jvmfinder.py -> build/lib.macosx-10.15-x86_64-2.7/jpype\n",
      "  copying jpype/imports.py -> build/lib.macosx-10.15-x86_64-2.7/jpype\n",
      "  copying jpype/_jcustomizer.py -> build/lib.macosx-10.15-x86_64-2.7/jpype\n",
      "  copying jpype/_core.py -> build/lib.macosx-10.15-x86_64-2.7/jpype\n",
      "  copying jpype/_jinit.py -> build/lib.macosx-10.15-x86_64-2.7/jpype\n",
      "  copying jpype/_linux.py -> build/lib.macosx-10.15-x86_64-2.7/jpype\n",
      "  copying jpype/_jarray.py -> build/lib.macosx-10.15-x86_64-2.7/jpype\n",
      "  copying jpype/_jobject.py -> build/lib.macosx-10.15-x86_64-2.7/jpype\n",
      "  copying jpype/pickle.py -> build/lib.macosx-10.15-x86_64-2.7/jpype\n",
      "  copying jpype/_jclass.py -> build/lib.macosx-10.15-x86_64-2.7/jpype\n",
      "  copying jpype/_windows.py -> build/lib.macosx-10.15-x86_64-2.7/jpype\n",
      "  copying jpype/_jexception.py -> build/lib.macosx-10.15-x86_64-2.7/jpype\n",
      "  copying jpype/reflect.py -> build/lib.macosx-10.15-x86_64-2.7/jpype\n",
      "  copying jpype/_jpackage.py -> build/lib.macosx-10.15-x86_64-2.7/jpype\n",
      "  running build_ext\n",
      "  running build_java\n",
      "  Using Jar cache\n",
      "  creating build/lib\n",
      "  creating build/lib/org\n",
      "  creating build/lib/org/jpype\n",
      "  creating build/lib/org/jpype/classloader\n",
      "  copying native/jars/org/jpype/classloader/JPypeClassLoader.class -> build/lib/org/jpype/classloader\n",
      "  copying native/jars/org.jpype.jar -> build/lib\n",
      "  running build_thunk\n",
      "  Building thunks\n",
      "    including thunk build/lib/org/jpype/classloader/JPypeClassLoader.class\n",
      "  Traceback (most recent call last):\n",
      "    File \"<string>\", line 1, in <module>\n",
      "    File \"/private/var/folders/ty/z77rd5m11vjf2hj2nn29g77m0000gn/T/pip-install-q0QQij/JPype1/setup.py\", line 52, in <module>\n",
      "      use_scm_version = True,\n",
      "    File \"/System/Library/Frameworks/Python.framework/Versions/2.7/Extras/lib/python/setuptools/__init__.py\", line 145, in setup\n",
      "      return distutils.core.setup(**attrs)\n",
      "    File \"/System/Library/Frameworks/Python.framework/Versions/2.7/lib/python2.7/distutils/core.py\", line 151, in setup\n",
      "      dist.run_commands()\n",
      "    File \"/System/Library/Frameworks/Python.framework/Versions/2.7/lib/python2.7/distutils/dist.py\", line 953, in run_commands\n",
      "      self.run_command(cmd)\n",
      "    File \"/System/Library/Frameworks/Python.framework/Versions/2.7/lib/python2.7/distutils/dist.py\", line 972, in run_command\n",
      "      cmd_obj.run()\n",
      "    File \"/System/Library/Frameworks/Python.framework/Versions/2.7/Extras/lib/python/wheel/bdist_wheel.py\", line 192, in run\n",
      "      self.run_command('build')\n",
      "    File \"/System/Library/Frameworks/Python.framework/Versions/2.7/lib/python2.7/distutils/cmd.py\", line 326, in run_command\n",
      "      self.distribution.run_command(command)\n",
      "    File \"/System/Library/Frameworks/Python.framework/Versions/2.7/lib/python2.7/distutils/dist.py\", line 972, in run_command\n",
      "      cmd_obj.run()\n",
      "    File \"/System/Library/Frameworks/Python.framework/Versions/2.7/lib/python2.7/distutils/command/build.py\", line 127, in run\n",
      "      self.run_command(cmd_name)\n",
      "    File \"/System/Library/Frameworks/Python.framework/Versions/2.7/lib/python2.7/distutils/cmd.py\", line 326, in run_command\n",
      "      self.distribution.run_command(command)\n",
      "    File \"/System/Library/Frameworks/Python.framework/Versions/2.7/lib/python2.7/distutils/dist.py\", line 972, in run_command\n",
      "      cmd_obj.run()\n",
      "    File \"/System/Library/Frameworks/Python.framework/Versions/2.7/Extras/lib/python/setuptools/command/build_ext.py\", line 78, in run\n",
      "      _build_ext.run(self)\n",
      "    File \"/System/Library/Frameworks/Python.framework/Versions/2.7/lib/python2.7/distutils/command/build_ext.py\", line 340, in run\n",
      "      self.build_extensions()\n",
      "    File \"setupext/build_ext.py\", line 73, in build_extensions\n",
      "      self.run_command(\"build_thunk\")\n",
      "    File \"/System/Library/Frameworks/Python.framework/Versions/2.7/lib/python2.7/distutils/cmd.py\", line 326, in run_command\n",
      "      self.distribution.run_command(command)\n",
      "    File \"/System/Library/Frameworks/Python.framework/Versions/2.7/lib/python2.7/distutils/dist.py\", line 972, in run_command\n",
      "      cmd_obj.run()\n",
      "    File \"setupext/build_thunk.py\", line 153, in run\n",
      "      namespace=\"JPThunk\")\n",
      "    File \"setupext/build_thunk.py\", line 103, in createThunks\n",
      "      outputClass(filename, name, fimpl)\n",
      "    File \"setupext/build_thunk.py\", line 53, in outputClass\n",
      "      output(fout, l)\n",
      "    File \"setupext/build_thunk.py\", line 36, in output\n",
      "      buffer.frombytes(l)\n",
      "  AttributeError: 'array.array' object has no attribute 'frombytes'\n",
      "  ----------------------------------------\u001b[0m\n",
      "\u001b[31m  ERROR: Failed building wheel for JPype1\u001b[0m\n",
      "\u001b[?25h  Running setup.py clean for JPype1\n"
     ]
    },
    {
     "name": "stdout",
     "output_type": "stream",
     "text": [
      "Failed to build JPype1\n",
      "Installing collected packages: beautifulsoup4, idna, chardet, urllib3, certifi, requests, oauthlib, requests-oauthlib, PySocks, tweepy, JPype1, lxml, colorama, konlpy\n",
      "\u001b[33m  WARNING: The script chardetect is installed in '/Users/edwardwon/Library/Python/2.7/bin' which is not on PATH.\n",
      "  Consider adding this directory to PATH or, if you prefer to suppress this warning, use --no-warn-script-location.\u001b[0m\n",
      "    Running setup.py install for JPype1 ... \u001b[?25lerror\n",
      "\u001b[31m    ERROR: Command errored out with exit status 1:\n",
      "     command: /System/Library/Frameworks/Python.framework/Versions/2.7/Resources/Python.app/Contents/MacOS/Python -u -c 'import sys, setuptools, tokenize; sys.argv[0] = '\"'\"'/private/var/folders/ty/z77rd5m11vjf2hj2nn29g77m0000gn/T/pip-install-q0QQij/JPype1/setup.py'\"'\"'; __file__='\"'\"'/private/var/folders/ty/z77rd5m11vjf2hj2nn29g77m0000gn/T/pip-install-q0QQij/JPype1/setup.py'\"'\"';f=getattr(tokenize, '\"'\"'open'\"'\"', open)(__file__);code=f.read().replace('\"'\"'\\r\\n'\"'\"', '\"'\"'\\n'\"'\"');f.close();exec(compile(code, __file__, '\"'\"'exec'\"'\"'))' install --record /private/var/folders/ty/z77rd5m11vjf2hj2nn29g77m0000gn/T/pip-record-MCrC6H/install-record.txt --single-version-externally-managed --user --prefix= --compile --install-headers /Users/edwardwon/Library/Python/2.7/include/python2.7/JPype1\n",
      "         cwd: /private/var/folders/ty/z77rd5m11vjf2hj2nn29g77m0000gn/T/pip-install-q0QQij/JPype1/\n",
      "    Complete output (90 lines):\n",
      "    /System/Library/Frameworks/Python.framework/Versions/2.7/lib/python2.7/distutils/dist.py:267: UserWarning: Unknown distribution option: 'use_scm_version'\n",
      "      warnings.warn(msg)\n",
      "    running install\n",
      "    running build\n",
      "    running build_py\n",
      "    creating build/lib.macosx-10.15-x86_64-2.7\n",
      "    creating build/lib.macosx-10.15-x86_64-2.7/jpype\n",
      "    copying jpype/_jcollection.py -> build/lib.macosx-10.15-x86_64-2.7/jpype\n",
      "    copying jpype/_jcomparable.py -> build/lib.macosx-10.15-x86_64-2.7/jpype\n",
      "    copying jpype/_classpath.py -> build/lib.macosx-10.15-x86_64-2.7/jpype\n",
      "    copying jpype/_jio.py -> build/lib.macosx-10.15-x86_64-2.7/jpype\n",
      "    copying jpype/_jtypes.py -> build/lib.macosx-10.15-x86_64-2.7/jpype\n",
      "    copying jpype/_pykeywords.py -> build/lib.macosx-10.15-x86_64-2.7/jpype\n",
      "    copying jpype/_jproxy.py -> build/lib.macosx-10.15-x86_64-2.7/jpype\n",
      "    copying jpype/_gui.py -> build/lib.macosx-10.15-x86_64-2.7/jpype\n",
      "    copying jpype/_darwin.py -> build/lib.macosx-10.15-x86_64-2.7/jpype\n",
      "    copying jpype/_jmethod.py -> build/lib.macosx-10.15-x86_64-2.7/jpype\n",
      "    copying jpype/nio.py -> build/lib.macosx-10.15-x86_64-2.7/jpype\n",
      "    copying jpype/_jstring.py -> build/lib.macosx-10.15-x86_64-2.7/jpype\n",
      "    copying jpype/_cygwin.py -> build/lib.macosx-10.15-x86_64-2.7/jpype\n",
      "    copying jpype/__init__.py -> build/lib.macosx-10.15-x86_64-2.7/jpype\n",
      "    copying jpype/types.py -> build/lib.macosx-10.15-x86_64-2.7/jpype\n",
      "    copying jpype/beans.py -> build/lib.macosx-10.15-x86_64-2.7/jpype\n",
      "    copying jpype/_jvmfinder.py -> build/lib.macosx-10.15-x86_64-2.7/jpype\n",
      "    copying jpype/imports.py -> build/lib.macosx-10.15-x86_64-2.7/jpype\n",
      "    copying jpype/_jcustomizer.py -> build/lib.macosx-10.15-x86_64-2.7/jpype\n",
      "    copying jpype/_core.py -> build/lib.macosx-10.15-x86_64-2.7/jpype\n",
      "    copying jpype/_jinit.py -> build/lib.macosx-10.15-x86_64-2.7/jpype\n",
      "    copying jpype/_linux.py -> build/lib.macosx-10.15-x86_64-2.7/jpype\n",
      "    copying jpype/_jarray.py -> build/lib.macosx-10.15-x86_64-2.7/jpype\n",
      "    copying jpype/_jobject.py -> build/lib.macosx-10.15-x86_64-2.7/jpype\n",
      "    copying jpype/pickle.py -> build/lib.macosx-10.15-x86_64-2.7/jpype\n",
      "    copying jpype/_jclass.py -> build/lib.macosx-10.15-x86_64-2.7/jpype\n",
      "    copying jpype/_windows.py -> build/lib.macosx-10.15-x86_64-2.7/jpype\n",
      "    copying jpype/_jexception.py -> build/lib.macosx-10.15-x86_64-2.7/jpype\n",
      "    copying jpype/reflect.py -> build/lib.macosx-10.15-x86_64-2.7/jpype\n",
      "    copying jpype/_jpackage.py -> build/lib.macosx-10.15-x86_64-2.7/jpype\n",
      "    running build_ext\n",
      "    running build_java\n",
      "    Using Jar cache\n",
      "    copying native/jars/org/jpype/classloader/JPypeClassLoader.class -> build/lib/org/jpype/classloader\n",
      "    copying native/jars/org.jpype.jar -> build/lib\n",
      "    running build_thunk\n",
      "    Building thunks\n",
      "      including thunk build/lib/org/jpype/classloader/JPypeClassLoader.class\n",
      "    Traceback (most recent call last):\n",
      "      File \"<string>\", line 1, in <module>\n",
      "      File \"/private/var/folders/ty/z77rd5m11vjf2hj2nn29g77m0000gn/T/pip-install-q0QQij/JPype1/setup.py\", line 52, in <module>\n",
      "        use_scm_version = True,\n",
      "      File \"/System/Library/Frameworks/Python.framework/Versions/2.7/Extras/lib/python/setuptools/__init__.py\", line 145, in setup\n",
      "        return distutils.core.setup(**attrs)\n",
      "      File \"/System/Library/Frameworks/Python.framework/Versions/2.7/lib/python2.7/distutils/core.py\", line 151, in setup\n",
      "        dist.run_commands()\n",
      "      File \"/System/Library/Frameworks/Python.framework/Versions/2.7/lib/python2.7/distutils/dist.py\", line 953, in run_commands\n",
      "        self.run_command(cmd)\n",
      "      File \"/System/Library/Frameworks/Python.framework/Versions/2.7/lib/python2.7/distutils/dist.py\", line 972, in run_command\n",
      "        cmd_obj.run()\n",
      "      File \"/System/Library/Frameworks/Python.framework/Versions/2.7/Extras/lib/python/setuptools/command/install.py\", line 61, in run\n",
      "        return orig.install.run(self)\n",
      "      File \"/System/Library/Frameworks/Python.framework/Versions/2.7/lib/python2.7/distutils/command/install.py\", line 573, in run\n",
      "        self.run_command('build')\n",
      "      File \"/System/Library/Frameworks/Python.framework/Versions/2.7/lib/python2.7/distutils/cmd.py\", line 326, in run_command\n",
      "        self.distribution.run_command(command)\n",
      "      File \"/System/Library/Frameworks/Python.framework/Versions/2.7/lib/python2.7/distutils/dist.py\", line 972, in run_command\n",
      "        cmd_obj.run()\n",
      "      File \"/System/Library/Frameworks/Python.framework/Versions/2.7/lib/python2.7/distutils/command/build.py\", line 127, in run\n",
      "        self.run_command(cmd_name)\n",
      "      File \"/System/Library/Frameworks/Python.framework/Versions/2.7/lib/python2.7/distutils/cmd.py\", line 326, in run_command\n",
      "        self.distribution.run_command(command)\n",
      "      File \"/System/Library/Frameworks/Python.framework/Versions/2.7/lib/python2.7/distutils/dist.py\", line 972, in run_command\n",
      "        cmd_obj.run()\n",
      "      File \"/System/Library/Frameworks/Python.framework/Versions/2.7/Extras/lib/python/setuptools/command/build_ext.py\", line 78, in run\n",
      "        _build_ext.run(self)\n",
      "      File \"/System/Library/Frameworks/Python.framework/Versions/2.7/lib/python2.7/distutils/command/build_ext.py\", line 340, in run\n",
      "        self.build_extensions()\n",
      "      File \"setupext/build_ext.py\", line 73, in build_extensions\n",
      "        self.run_command(\"build_thunk\")\n",
      "      File \"/System/Library/Frameworks/Python.framework/Versions/2.7/lib/python2.7/distutils/cmd.py\", line 326, in run_command\n",
      "        self.distribution.run_command(command)\n",
      "      File \"/System/Library/Frameworks/Python.framework/Versions/2.7/lib/python2.7/distutils/dist.py\", line 972, in run_command\n",
      "        cmd_obj.run()\n",
      "      File \"setupext/build_thunk.py\", line 153, in run\n",
      "        namespace=\"JPThunk\")\n",
      "      File \"setupext/build_thunk.py\", line 103, in createThunks\n",
      "        outputClass(filename, name, fimpl)\n",
      "      File \"setupext/build_thunk.py\", line 53, in outputClass\n",
      "        output(fout, l)\n",
      "      File \"setupext/build_thunk.py\", line 36, in output\n",
      "        buffer.frombytes(l)\n",
      "    AttributeError: 'array.array' object has no attribute 'frombytes'\n",
      "    ----------------------------------------\u001b[0m\n",
      "\u001b[31mERROR: Command errored out with exit status 1: /System/Library/Frameworks/Python.framework/Versions/2.7/Resources/Python.app/Contents/MacOS/Python -u -c 'import sys, setuptools, tokenize; sys.argv[0] = '\"'\"'/private/var/folders/ty/z77rd5m11vjf2hj2nn29g77m0000gn/T/pip-install-q0QQij/JPype1/setup.py'\"'\"'; __file__='\"'\"'/private/var/folders/ty/z77rd5m11vjf2hj2nn29g77m0000gn/T/pip-install-q0QQij/JPype1/setup.py'\"'\"';f=getattr(tokenize, '\"'\"'open'\"'\"', open)(__file__);code=f.read().replace('\"'\"'\\r\\n'\"'\"', '\"'\"'\\n'\"'\"');f.close();exec(compile(code, __file__, '\"'\"'exec'\"'\"'))' install --record /private/var/folders/ty/z77rd5m11vjf2hj2nn29g77m0000gn/T/pip-record-MCrC6H/install-record.txt --single-version-externally-managed --user --prefix= --compile --install-headers /Users/edwardwon/Library/Python/2.7/include/python2.7/JPype1 Check the logs for full command output.\u001b[0m\n"
     ]
    },
    {
     "name": "stdout",
     "output_type": "stream",
     "text": [
      "\u001b[?25h"
     ]
    }
   ],
   "source": [
    "# konlpy 패키지 다운로드\n",
    "!pip install konlpy"
   ]
  },
  {
   "cell_type": "code",
   "execution_count": 0,
   "metadata": {
    "colab": {},
    "colab_type": "code",
    "id": "0tf3AnN9bLoy"
   },
   "outputs": [],
   "source": [
    "# konlpy 관련 패키지 import\n",
    "from konlpy.tag import Okt\n",
    "from konlpy.tag import Kkma\n",
    "from konlpy.tag import Hannanum\n",
    "from konlpy.tag import Komoran\n",
    "from konlpy.tag import Twitter"
   ]
  },
  {
   "cell_type": "code",
   "execution_count": 0,
   "metadata": {
    "colab": {
     "base_uri": "https://localhost:8080/",
     "height": 71
    },
    "colab_type": "code",
    "id": "d6UXcU-YoAFm",
    "outputId": "d86e2758-fc65-44f3-ca40-84683aab0f38"
   },
   "outputs": [
    {
     "name": "stderr",
     "output_type": "stream",
     "text": [
      "/usr/local/lib/python3.6/dist-packages/konlpy/tag/_okt.py:16: UserWarning: \"Twitter\" has changed to \"Okt\" since KoNLPy v0.4.5.\n",
      "  warn('\"Twitter\" has changed to \"Okt\" since KoNLPy v0.4.5.')\n"
     ]
    }
   ],
   "source": [
    "kkma = Kkma()\n",
    "okt = Okt()\n",
    "komoran = Komoran()\n",
    "hannanum = Hannanum()\n",
    "twitter = Twitter()"
   ]
  },
  {
   "cell_type": "code",
   "execution_count": 0,
   "metadata": {
    "colab": {
     "base_uri": "https://localhost:8080/",
     "height": 34
    },
    "colab_type": "code",
    "id": "5JPw0rsmoEfv",
    "outputId": "cc35819a-aa00-4ab6-c6e2-754b8cf74138"
   },
   "outputs": [
    {
     "name": "stdout",
     "output_type": "stream",
     "text": [
      "kkma 문장 분리 :  ['네 안녕하세요', '반갑습니다.']\n"
     ]
    }
   ],
   "source": [
    "# konlpy 중 Kkma는 문장 분리가 가능 (다른 라이브러리는 되지 않음)\n",
    "print (\"kkma 문장 분리 : \", kkma.sentences('네 안녕하세요 반갑습니다.'))"
   ]
  },
  {
   "cell_type": "code",
   "execution_count": 0,
   "metadata": {
    "colab": {
     "base_uri": "https://localhost:8080/",
     "height": 102
    },
    "colab_type": "code",
    "id": "FioVzRV-oFnl",
    "outputId": "ababd9b3-f66f-499a-dee0-e7ba04a5d5e3"
   },
   "outputs": [
    {
     "name": "stdout",
     "output_type": "stream",
     "text": [
      "okt 형태소 분석 : ['집', '에', '가면', '감자', '좀', '쪄줄래', '?']\n",
      "kkma 형태소 분석 :  ['집', '에', '가', '면', '감자', '좀', '찌', '어', '주', 'ㄹ래', '?']\n",
      "hannanum 형태소 분석 :  ['집', '에', '가', '면', '감', '자', '좀', '찌', '어', '줄', '래', '?']\n",
      "komoran 형태소 분석 :  ['집', '에', '가', '면', '감자', '좀', '찌', '어', '주', 'ㄹ래', '?']\n",
      "twitter 형태소 분석 :  ['집', '에', '가면', '감자', '좀', '쪄줄래', '?']\n"
     ]
    }
   ],
   "source": [
    "# konlpy 의 라이브러리 형태소 분석 비교\n",
    "print(\"okt 형태소 분석 :\", okt.morphs(u\"집에 가면 감자 좀 쪄줄래?\"))\n",
    "print(\"kkma 형태소 분석 : \", kkma.morphs(u\"집에 가면 감자 좀 쪄줄래?\"))\n",
    "print(\"hannanum 형태소 분석 : \", hannanum.morphs(u\"집에 가면 감자 좀 쪄줄래?\"))\n",
    "print(\"komoran 형태소 분석 : \", komoran.morphs(u\"집에 가면 감자 좀 쪄줄래?\"))\n",
    "print(\"twitter 형태소 분석 : \", twitter.morphs(u\"집에 가면 감자 좀 쪄줄래?\"))"
   ]
  }
 ],
 "metadata": {
  "colab": {
   "name": "실습 [5-1] KoNLPy를 이용한 형태소 분석",
   "provenance": []
  },
  "kernelspec": {
   "display_name": "Python 3",
   "language": "python",
   "name": "python3"
  },
  "language_info": {
   "codemirror_mode": {
    "name": "ipython",
    "version": 3
   },
   "file_extension": ".py",
   "mimetype": "text/x-python",
   "name": "python",
   "nbconvert_exporter": "python",
   "pygments_lexer": "ipython3",
   "version": "3.8.1"
  }
 },
 "nbformat": 4,
 "nbformat_minor": 1
}
