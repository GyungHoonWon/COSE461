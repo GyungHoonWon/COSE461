{
 "cells": [
  {
   "cell_type": "markdown",
   "metadata": {
    "colab_type": "text",
    "id": "ghdvmIsv2jul"
   },
   "source": [
    "## 실습 [9-1]  \n",
    "\n",
    "### 1. 실습명 : N-gram 언어 모델로 문장 생성하기\n",
    "### 2. 실습 목적 및 설명\n",
    " \n",
    "*   파이썬의 NLTK 패키지를 이용하여 N-gram 언어 모델을 구축한다\n",
    "*   네이버에서 오픈 소스로 제공하는 nsmc 영화 리뷰 데이터셋을 이용해 문장을 생성한다.\n",
    "\n",
    "### 3. 관련 장(챕터) : 9.2.2 N-gram 언어 모델 (N-gram Language Model)\n",
    "### 4. 코드"
   ]
  },
  {
   "cell_type": "code",
   "execution_count": 16,
   "metadata": {
    "colab": {},
    "colab_type": "code",
    "id": "Ex4VLpId3e-T"
   },
   "outputs": [],
   "source": [
    "import nltk\n",
    "from nltk.util import ngrams\n",
    "from nltk import word_tokenize\n",
    "from nltk import ConditionalFreqDist\n",
    "from nltk.probability import ConditionalProbDist, MLEProbDist\n",
    "import numpy as np\n",
    "import codecs\n",
    "from tqdm import tqdm\n",
    "import random"
   ]
  },
  {
   "cell_type": "code",
   "execution_count": 17,
   "metadata": {},
   "outputs": [
    {
     "name": "stdout",
     "output_type": "stream",
     "text": [
      "/bin/sh: apt-get: command not found\r\n"
     ]
    }
   ],
   "source": [
    "!apt-get update"
   ]
  },
  {
   "cell_type": "code",
   "execution_count": 19,
   "metadata": {
    "colab": {
     "base_uri": "https://localhost:8080/",
     "height": 1000
    },
    "colab_type": "code",
    "id": "5wazYRi07LIj",
    "outputId": "b408ddd5-fe6c-4fcc-dc44-933ab069b2cc"
   },
   "outputs": [
    {
     "name": "stdout",
     "output_type": "stream",
     "text": [
      "Updating Homebrew...\n",
      "\u001b[34m==>\u001b[0m \u001b[1mAuto-updated Homebrew!\u001b[0m\n",
      "Updated 1 tap (homebrew/core).\n",
      "\u001b[34m==>\u001b[0m \u001b[1mUpdated Formulae\u001b[0m\n",
      "exploitdb           media-info          openrct2            tflint\n",
      "\n",
      "\u001b[31mError:\u001b[0m No available formula with the name \"g++\" \n",
      "\u001b[34m==>\u001b[0m \u001b[1mSearching for a previously deleted formula (in the last month)...\u001b[0m\n",
      "\u001b[33mWarning:\u001b[0m homebrew/core is shallow clone. To get complete history run:\n",
      "  git -C \"$(brew --repo homebrew/core)\" fetch --unshallow\n",
      "\n",
      "\u001b[31mError:\u001b[0m No previously deleted formula found.\n",
      "\u001b[34m==>\u001b[0m \u001b[1mSearching for similarly named formulae...\u001b[0m\n",
      "These similarly named formulae were found:\n",
      "aacgain                                  grunt-completion\n",
      "abnfgen                                  grv\n",
      "adplug                                   gsar\n",
      "ag                                       gsasl\n",
      "agda                                     gsettings-desktop-schemas\n",
      "agedu                                    gsl\n",
      "aggregate                                gsmartcontrol\n",
      "aircrack-ng                              gsoap\n",
      "algernon                                 gspell\n",
      "algol68g                                 gssdp\n",
      "align                                    gssh\n",
      "allegro                                  gst-editing-services\n",
      "analog                                   gst-libav\n",
      "angband                                  gst-plugins-bad\n",
      "angle-grinder                            gst-plugins-base\n",
      "angular-cli                              gst-plugins-good\n",
      "antigen                                  gst-plugins-ugly\n",
      "anycable-go                              gst-python\n",
      "apache-arrow-glib                        gst-rtsp-server\n",
      "apache-geode                             gst-validate\n",
      "apgdiff                                  gstreamer\n",
      "apng2gif                                 gstreamermm\n",
      "apngasm                                  gtef\n",
      "app-engine-java                          gti\n",
      "app-engine-python                        gtk+\n",
      "appstream-glib                           gtk+3\n",
      "aqbanking                                gtk-chtheme\n",
      "arangodb                                 gtk-doc\n",
      "arcade-learning-environment              gtk-gnutella\n",
      "argon2                                   gtk-mac-integration\n",
      "argp-standalone                          gtk-vnc\n",
      "argtable                                 gtkdatabox\n",
      "argus                                    gtkextra\n",
      "argus-clients                            gtkglext\n",
      "argyll-cms                               gtkmm\n",
      "arm-linux-gnueabihf-binutils             gtkmm3\n",
      "arping                                   gtksourceview\n",
      "augeas                                   gtksourceview3\n",
      "augustus                                 gtksourceview4\n",
      "autogen                                  gtksourceviewmm\n",
      "aws-apigateway-importer                  gtksourceviewmm3\n",
      "aws-google-auth                          gtkspell3\n",
      "awslogs                                  gtmess\n",
      "azure-storage-cpp                        gtranslator\n",
      "bagit                                    \u001b[1mgts \u001b[32m✔\u001b[0m\u001b[0m\n",
      "baidupcs-go                              gucharmap\n",
      "ballerburg                               guetzli\n",
      "bash-git-prompt                          guichan\n",
      "bdw-gc                                   guile\n",
      "beagle                                   gumbo-parser\n",
      "befunge93                                gupnp\n",
      "berglas                                  gupnp-av\n",
      "bfg                                      gupnp-tools\n",
      "bgpdump                                  gvp\n",
      "bgpq3                                    gwenhywfar\n",
      "bgpstream                                gws\n",
      "bgrep                                    gwt\n",
      "bigloo                                   gwyddion\n",
      "bingrep                                  gx\n",
      "biogeme                                  gx-go\n",
      "biosig                                   gxml\n",
      "blazeblogger                             gzip\n",
      "blazegraph                               gzrt\n",
      "bogofilter                               hexgui\n",
      "borgmatic                                hg\n",
      "boringtun                                hg-fast-export\n",
      "brag                                     highlight\n",
      "brew-gem                                 highlighting-kate\n",
      "brightness                               hledger\n",
      "brogue                                   hopenpgp-tools\n",
      "bwm-ng                                   hping\n",
      "bzr-extmerge                             httping\n",
      "cargo-c                                  hugo\n",
      "cargo-completion                         i386-elf-gdb\n",
      "cargo-instruments                        i386-elf-grub\n",
      "carthage                                 icarus-verilog\n",
      "cartridge-cli                            icon-naming-utils\n",
      "catimg                                   igraph\n",
      "cdargs                                   igv\n",
      "cdlabelgen                               imagejs\n",
      "cdogs-sdl                                \u001b[1mimagemagick \u001b[32m✔\u001b[0m\u001b[0m\n",
      "certigo                                  imagemagick@6\n",
      "cfengine                                 imageoptim-cli\n",
      "cgal                                     imagesnap\n",
      "cgdb                                     imageworsener\n",
      "cgit                                     imessage-ruby\n",
      "cglm                                     imgproxy\n",
      "cgns                                     imgur-screenshot\n",
      "cgoban                                   ioping\n",
      "cgrep                                    ios-class-guard\n",
      "cgvg                                     ios-webkit-debug-proxy\n",
      "cheapglk                                 jags\n",
      "check_postgres                           jbig2dec\n",
      "chgems                                   jbig2enc\n",
      "choose-gui                               jbigkit\n",
      "chronograf                               jboss-forge\n",
      "cidrmerge                                jfrog-cli-go\n",
      "cig                                      jigdo\n",
      "cimg                                     jing-trang\n",
      "clang-format                             jlog\n",
      "cling                                    \u001b[1mjpeg \u001b[32m✔\u001b[0m\u001b[0m\n",
      "clingo                                   jpeg-archive\n",
      "clog                                     jpeg-turbo\n",
      "cloog                                    jpeginfo\n",
      "clutter-gst                              jpegoptim\n",
      "clutter-gtk                              jpegrescan\n",
      "cmark-gfm                                json-glib\n",
      "cmigemo                                  jsonrpc-glib\n",
      "cogl                                     jvgrep\n",
      "configen                                 katago\n",
      "console_bridge                           kedge\n",
      "cpp-gsl                                  keepkey-agent\n",
      "create-dmg                               kubecfg\n",
      "cronolog                                 kubernetes-service-catalog-client\n",
      "crosstool-ng                             lablgtk\n",
      "crystal-lang                             languagetool\n",
      "ctags                                    lazygit\n",
      "curaengine                               ledger\n",
      "cwlogs                                   legit\n",
      "daemonlogger                             lego\n",
      "dashing                                  leiningen\n",
      "dbus-glib                                lgogdownloader\n",
      "ddgr                                     libagg\n",
      "deja-gnu                                 libbpg\n",
      "dfu-programmer                           libchewing\n",
      "dgen                                     libconfig\n",
      "dhcping                                  libdshconfig\n",
      "dialog                                   libflowmanager\n",
      "digdag                                   libgadu\n",
      "digitemp                                 libgaiagraphics\n",
      "django-completion                        libgcrypt\n",
      "dmg2img                                  libgda\n",
      "docker-gen                               libgdata\n",
      "doxygen                                  libgee\n",
      "dpkg                                     libgeotiff\n",
      "dungeon                                  libgetdata\n",
      "e2fsprogs                                libgfshare\n",
      "easy-git                                 libghthash\n",
      "easy-tag                                 libgig\n",
      "easyengine                               libgit2\n",
      "easyrpg-player                           libgit2-glib\n",
      "echoprint-codegen                        libglade\n",
      "editorconfig                             libglademm\n",
      "eg                                       libgnomecanvas\n",
      "eg-examples                              libgnomecanvasmm\n",
      "eigen                                    libgosu\n",
      "ekg2                                     libgpg-error\n",
      "emacs-clang-complete-async               libgphoto2\n",
      "enigma                                   libgr\n",
      "epeg                                     libgraphqlparser\n",
      "ephemeralpg                              libgsf\n",
      "erlang                                   libgsm\n",
      "erlang@20                                libgtop\n",
      "erlang@21                                libgusb\n",
      "eventlog                                 libgweather\n",
      "exact-image                              libgxps\n",
      "exiftags                                 libid3tag\n",
      "fcgi                                     libimagequant\n",
      "fcgiwrap                                 liblwgeom\n",
      "feedgnuplot                              libmagic\n",
      "ffmpeg                                   libming\n",
      "ffmpeg2theora                            libmodplug\n",
      "ffmpeg@2.8                               libmowgli\n",
      "ffmpegthumbnailer                        libmpeg2\n",
      "fig2dev                                  libngspice\n",
      "figlet                                   libodfgen\n",
      "flactag                                  libogg\n",
      "flowgrind                                liboping\n",
      "\u001b[1mfontconfig \u001b[32m✔\u001b[0m\u001b[0m                             libpagemaker\n",
      "fontforge                                libpgm\n",
      "forego                                   libplctag\n",
      "fping                                    \u001b[1mlibpng \u001b[32m✔\u001b[0m\u001b[0m\n",
      "fragroute                                libpointing\n",
      "freeglut                                 libreplaygain\n",
      "freeimage                                librevenge\n",
      "freeling                                 librsvg\n",
      "frege                                    libsigc++\n",
      "frege-repl                               libsigc++@2\n",
      "frugal                                   libsignal-protocol-c\n",
      "ftgl                                     libsigsegv\n",
      "fuego                                    libspng\n",
      "g2                                       libstatgrab\n",
      "g3log                                    libsvg\n",
      "gabedit                                  libsvg-cairo\n",
      "gaffitter                                libtrng\n",
      "galen                                    \u001b[1mlibunistring \u001b[32m✔\u001b[0m\u001b[0m\n",
      "gambit                                   libvirt-glib\n",
      "gambit-scheme                            libwpg\n",
      "game-music-emu                           libxdg-basedir\n",
      "gammaray                                 lightgbm\n",
      "gammu                                    lightning\n",
      "gandi.cli                                lighttpd\n",
      "ganglia                                  lincity-ng\n",
      "garmintools                              link-grammar\n",
      "gatsby-cli                               liquigraph\n",
      "gauche                                   literate-git\n",
      "gauge                                    log4c\n",
      "gaul                                     log4cplus\n",
      "gawk                                     log4cpp\n",
      "gbdfed                                   log4cxx\n",
      "gcab                                     log4shib\n",
      "gcal                                     logcheck\n",
      "\u001b[1mgcc \u001b[32m✔\u001b[0m\u001b[0m                                    logrotate\n",
      "gcc@4.9                                  logstalgia\n",
      "gcc@5                                    logstash\n",
      "gcc@6                                    logtalk\n",
      "gcc@7                                    mage\n",
      "gcc@8                                    magic-wormhole\n",
      "gconf                                    magnetix\n",
      "gcore                                    mailhog\n",
      "gcovr                                    makefile2graph\n",
      "gcsfuse                                  makepkg\n",
      "gcutil                                   malbolge\n",
      "gcviewer                                 mboxgrep\n",
      "\u001b[1mgd \u001b[32m✔\u001b[0m\u001b[0m                                     megacmd\n",
      "gdal                                     megatools\n",
      "gdb                                      mergelog\n",
      "\u001b[1mgdbm \u001b[32m✔\u001b[0m\u001b[0m                                   mergepbx\n",
      "gdcm                                     mesalib-glw\n",
      "gdk-pixbuf                               mg\n",
      "gdl                                      mgba\n",
      "gdm                                      midgard2\n",
      "gdmap                                    midnight-commander\n",
      "gdrive                                   mighttpd2\n",
      "gdub                                     mingw-w64\n",
      "geant4                                   minisign\n",
      "gearboy                                  mjpegtools\n",
      "gearman                                  mk-configure\n",
      "gearsystem                               mkhexgrid\n",
      "geckodriver                              mlogger\n",
      "gecode                                   modgit\n",
      "gedit                                    mogenerator\n",
      "geeqie                                   mongo-c-driver\n",
      "gegl                                     mongo-cxx-driver\n",
      "gel                                      mongo-orchestration\n",
      "gem-completion                           mongoose\n",
      "genact                                   mongrel2\n",
      "genders                                  mongroup\n",
      "generate-json-schema                     monitoring-plugins\n",
      "genext2fs                                mono-libgdiplus\n",
      "gengetopt                                montage\n",
      "genometools                              moon-buggy\n",
      "genstats                                 movgrab\n",
      "geocode-glib                             moz-git-tools\n",
      "geogram                                  mozjpeg\n",
      "geographiclib                            mp3gain\n",
      "geoip                                    mpage\n",
      "geoipupdate                              mpegdemux\n",
      "geomview                                 mpg123\n",
      "geos                                     mpg321\n",
      "geoserver                                mpgtx\n",
      "gerbil-scheme                            mrtg\n",
      "gerbv                                    mscgen\n",
      "gerrit-tools                             msgpack\n",
      "get-flash-videos                         msgpack-tools\n",
      "get_iplayer                              msgpuck\n",
      "getdns                                   mspdebug\n",
      "getmail                                  naga\n",
      "\u001b[1mgettext \u001b[32m✔\u001b[0m\u001b[0m                                nagios\n",
      "getxbook                                 nagios-plugins\n",
      "gexiv2                                   nailgun\n",
      "gf-complete                              nanomsg\n",
      "gflags                                   nanomsgxx\n",
      "gforth                                   nanopb-generator\n",
      "gh                                       nats-streaming-server\n",
      "ghc                                      nbimg\n",
      "ghc@8.6                                  negfix8\n",
      "ghex                                     nethogs\n",
      "ghi                                      nghttp2\n",
      "\u001b[1mghostscript \u001b[32m✔\u001b[0m\u001b[0m                            nginx\n",
      "ghq                                      ngircd\n",
      "ghr                                      ngrep\n",
      "gibbslda                                 ngspice\n",
      "gibo                                     ngt\n",
      "gif2png                                  nifi-registry\n",
      "gifcap                                   nng\n",
      "gifify                                   nrg2iso\n",
      "giflib                                   ntfs-3g\n",
      "giflossy                                 ntopng\n",
      "gifsicle                                 nuget\n",
      "gifski                                   nxengine\n",
      "gimme                                    nzbget\n",
      "gimme-aws-creds                          objc-codegenutils\n",
      "ginac                                    oclgrind\n",
      "gist                                     oggz\n",
      "gistit                                   ogmtools\n",
      "git                                      omega\n",
      "git-absorb                               omega-rpg\n",
      "git-annex                                oniguruma\n",
      "git-annex-remote-rclone                  open-image-denoise\n",
      "git-appraise                             open-scene-graph\n",
      "git-archive-all                          openapi-generator\n",
      "git-cal                                  opencsg\n",
      "git-cinnabar                             openimageio\n",
      "git-cola                                 \u001b[1mopenjpeg \u001b[32m✔\u001b[0m\u001b[0m\n",
      "git-credential-manager                   opentracing-cpp\n",
      "git-crypt                                optipng\n",
      "git-delta                                osm-gps-map\n",
      "git-extras                               osm2pgrouting\n",
      "git-filter-repo                          osm2pgsql\n",
      "git-fixup                                osslsigncode\n",
      "git-flow                                 oxipng\n",
      "git-flow-avh                             pagmo\n",
      "git-fresh                                pango\n",
      "git-ftp                                  pangomm\n",
      "git-game                                 passenger\n",
      "git-gerrit                               pbc-sig\n",
      "git-gui                                  pcb2gcode\n",
      "git-hooks                                pdf2image\n",
      "git-if                                   pdf2svg\n",
      "git-imerge                               pdfgrep\n",
      "git-integration                          peg\n",
      "git-lfs                                  peg-markdown\n",
      "git-multipush                            pegtl\n",
      "git-now                                  pg_top\n",
      "git-number                               pgbadger\n",
      "git-octopus                              pgbouncer\n",
      "git-open                                 pgcli\n",
      "git-plus                                 pgdbf\n",
      "git-quick-stats                          pgformatter\n",
      "git-recent                               pgloader\n",
      "git-remote-gcrypt                        pgpdump\n",
      "git-remote-hg                            pgplot\n",
      "git-review                               pgpool-ii\n",
      "git-revise                               pgrep\n",
      "git-secret                               pgroonga\n",
      "git-secrets                              pgrouting\n",
      "git-series                               pgtoolkit\n",
      "git-sh                                   pgtune\n",
      "git-sizer                                pgweb\n",
      "git-ssh                                  pidgin\n",
      "git-standup                              pig\n",
      "git-subrepo                              pigz\n",
      "git-svn-abandon                          \u001b[1mpkg-config \u001b[32m✔\u001b[0m\u001b[0m\n",
      "git-test                                 pkgdiff\n",
      "git-tf                                   png++\n",
      "git-town                                 png2ico\n",
      "git-tracker                              pngcheck\n",
      "git-trim                                 pngcrush\n",
      "git-url-sub                              pngnq\n",
      "git-utils                                pngpaste\n",
      "git-vendor                               pngquant\n",
      "git-when-merged                          points2grid\n",
      "gitbatch                                 polyglot\n",
      "gitbucket                                postgis\n",
      "giter8                                   postgresql\n",
      "gitfs                                    postgresql@10\n",
      "gitg                                     postgresql@11\n",
      "github-keygen                            postgresql@9.4\n",
      "github-markdown-toc                      postgresql@9.5\n",
      "github-release                           postgresql@9.6\n",
      "gitlab-gem                               postgrest\n",
      "gitlab-runner                            powerline-go\n",
      "gitleaks                                 prettyping\n",
      "gitless                                  prodigal\n",
      "gitmoji                                  progress\n",
      "gitslave                                 proguard\n",
      "gitter-cli                               proof-general\n",
      "gitup                                    protoc-gen-go\n",
      "gitversion                               protoc-gen-grpc-web\n",
      "gjs                                      proxychains-ng\n",
      "gkrellm                                  psc-package\n",
      "gl2ps                                    psgrep\n",
      "glade                                    pspg\n",
      "glances                                  pugixml\n",
      "glassfish                                pwgen\n",
      "glbinding                                pyenv-pip-migrate\n",
      "gleam                                    pygitup\n",
      "glew                                     pygments\n",
      "glfw                                     pygobject3\n",
      "\u001b[1mglib \u001b[32m✔\u001b[0m\u001b[0m                                   qalculate-gtk\n",
      "glib-networking                          qcachegrind\n",
      "glib-openssl                             ragel\n",
      "glibmm                                   range-v3\n",
      "glide                                    ranger\n",
      "glkterm                                  rargs\n",
      "glktermw                                 rawgl\n",
      "glm                                      raxml-ng\n",
      "global                                   rbenv-communal-gems\n",
      "globe                                    rbenv-ctags\n",
      "globjects                                rbenv-default-gems\n",
      "glog                                     rbenv-gemset\n",
      "glooctl                                  recon-ng\n",
      "gloox                                    recoverjpeg\n",
      "glow                                     regex-opt\n",
      "glpk                                     regina-rexx\n",
      "glslang                                  regldg\n",
      "glslviewer                               reposurgeon\n",
      "glui                                     rgbds\n",
      "glulxe                                   rgxg\n",
      "glyr                                     rig\n",
      "gmail-backup                             ringojs\n",
      "gmic                                     ripgrep\n",
      "gmime                                    ripgrep-all\n",
      "\u001b[1mgmp \u001b[32m✔\u001b[0m\u001b[0m                                    rlog\n",
      "gmsh                                     rogue\n",
      "gmt                                      rpcgen\n",
      "gmt@5                                    rpg\n",
      "gnirehtet                                rsyslog\n",
      "gnome-autoar                             rtags\n",
      "gnome-builder                            s-lang\n",
      "gnome-common                             s2geometry\n",
      "gnome-icon-theme                         sagittarius-scheme\n",
      "gnome-latex                              schema-evolution-manager\n",
      "gnome-recipes                            schroedinger\n",
      "gnome-themes-standard                    scm-manager\n",
      "gnu-apl                                  sdl2_gfx\n",
      "gnu-barcode                              sdl2_image\n",
      "gnu-chess                                sdl_gfx\n",
      "gnu-cobol                                sdl_image\n",
      "gnu-complexity                           semtag\n",
      "gnu-getopt                               sf-pwgen\n",
      "gnu-go                                   sfcgal\n",
      "gnu-indent                               sgrep\n",
      "gnu-prolog                               shivavg\n",
      "gnu-sed                                  shogun\n",
      "gnu-shogi                                siege\n",
      "gnu-smalltalk                            signal-cli\n",
      "gnu-tar                                  signify-osx\n",
      "gnu-time                                 simg2img\n",
      "gnu-typist                               simgrid\n",
      "gnu-units                                singular\n",
      "gnu-which                                slugify\n",
      "gnumeric                                 smimesign\n",
      "gnunet                                   smpeg\n",
      "gnupg                                    smpeg2\n",
      "gnupg-pkcs11-scd                         snag\n",
      "gnupg@1.4                                sng\n",
      "gnuplot                                  sngrep\n",
      "gnuplot@4                                sniffglue\n",
      "gnuradio                                 somagic\n",
      "gnuski                                   somagic-tools\n",
      "gnustep-make                             source-highlight\n",
      "gnutls                                   source-to-image\n",
      "go                                       spaceinvaders-go\n",
      "go-bindata                               spatialite-gui\n",
      "go-jira                                  spawn-fcgi\n",
      "go-md2man                                spdlog\n",
      "go-statik                                spice-gtk\n",
      "go@1.10                                  spigot\n",
      "go@1.11                                  spotbugs\n",
      "go@1.12                                  spring-completion\n",
      "go@1.13                                  spring-loaded\n",
      "go@1.9                                   spring-roo\n",
      "goaccess                                 sshguard\n",
      "goad                                     stgit\n",
      "gobby                                    stress-ng\n",
      "gobject-introspection                    strongswan\n",
      "gobo                                     svg2pdf\n",
      "gobuster                                 svg2png\n",
      "gocr                                     svgcleaner\n",
      "gocryptfs                                svgo\n",
      "godep                                    swagger-codegen\n",
      "goenv                                    swagger-codegen@2\n",
      "gofabric8                                swagger2markup-cli\n",
      "goffice                                  swi-prolog\n",
      "golang-migrate                           swiftgen\n",
      "gollum                                   swig\n",
      "golo                                     swig@3\n",
      "gom                                      sync_gateway\n",
      "gomplate                                 syncthing\n",
      "goocanvas                                synfig\n",
      "goofys                                   sysdig\n",
      "google-authenticator-libpam              tag\n",
      "google-benchmark                         taglib\n",
      "google-java-format                       tarsnap-gui\n",
      "google-sparsehash                        tcping\n",
      "google-sql-tool                          telegraf\n",
      "googler                                  telegram-cli\n",
      "goolabs                                  template-glib\n",
      "goose                                    termtosvg\n",
      "gopass                                   terraforming\n",
      "gor                                      terragrunt\n",
      "goreleaser                               tesseract-lang\n",
      "goreman                                  tgif\n",
      "gosu                                     tgui\n",
      "gotags                                   tiff2png\n",
      "goto                                     tig\n",
      "gotop                                    tiger-vnc\n",
      "gource                                   timedog\n",
      "govc                                     tiny-fugue\n",
      "govendor                                 topgit\n",
      "gowsdl                                   topgrade\n",
      "gox                                      tractorgen\n",
      "gpa                                      treefrog\n",
      "gpac                                     trezor-agent\n",
      "gpatch                                   triangle\n",
      "gpcslots2                                tsung\n",
      "gperf                                    ttygif\n",
      "gperftools                               twoping\n",
      "gpgme                                    txt2tags\n",
      "gphoto2                                  ucg\n",
      "gplcver                                  uggconv\n",
      "gpm                                      ungit\n",
      "gpp                                      uwsgi\n",
      "gpredict                                 v2ray-plugin\n",
      "gprof2dot                                vagrant-completion\n",
      "gpsbabel                                 valgrind\n",
      "gpsd                                     vamp-plugin-sdk\n",
      "gpsim                                    vcdimager\n",
      "gptfdisk                                 vegeta\n",
      "gptsync                                  vgmstream\n",
      "gputils                                  vimpager\n",
      "gpx                                      virgil\n",
      "gqlplus                                  virtualpg\n",
      "gqview                                   vorbisgain\n",
      "gr-osmosdr                               vramsteg\n",
      "grace                                    wagyu\n",
      "gradio                                   webkit2png\n",
      "gradle                                   wego\n",
      "gradle-completion                        weighttp\n",
      "grafana                                  wellington\n",
      "grails                                   \u001b[1mwget \u001b[32m✔\u001b[0m\u001b[0m\n",
      "grakn                                    wgetpaste\n",
      "grap                                     wiggle\n",
      "graph-tool                               willgit\n",
      "graphene                                 wiredtiger\n",
      "graphicsmagick                           wireguard-go\n",
      "graphite2                                wireguard-tools\n",
      "\u001b[1mgraphviz \u001b[32m✔\u001b[0m\u001b[0m                               wordgrinder\n",
      "grc                                      wrangler\n",
      "greed                                    write-good\n",
      "grep                                     wxwidgets\n",
      "grepcidr                                 x86_64-elf-gcc\n",
      "grex                                     xclogparser\n",
      "griffon                                  xcodegen\n",
      "grin                                     xgboost\n",
      "grin-wallet                              xml-tooling-c\n",
      "grip                                     xmlcatmgr\n",
      "groff                                    xmrig\n",
      "grok                                     xshogi\n",
      "gromacs                                  yaegi\n",
      "gron                                     yaze-ag\n",
      "groonga                                  ykneomgr\n",
      "groovy                                   you-get\n",
      "groovysdk                                zig\n",
      "groovyserv                               zimg\n",
      "growly                                   zlog\n",
      "grpc                                     zplug\n",
      "grpc-swift                               zsh-autosuggestions\n",
      "grpcurl                                  zsh-git-prompt\n",
      "grsync                                   zsh-history-substring-search\n",
      "grt                                      zsh-navigation-tools\n",
      "grunt-cli                                zsh-syntax-highlighting\n",
      "To install one of them, run (for example):\n",
      "  brew install aacgain\n",
      "\u001b[34m==>\u001b[0m \u001b[1mSearching taps...\u001b[0m\n",
      "\u001b[34m==>\u001b[0m \u001b[1mSearching taps on GitHub...\u001b[0m\n"
     ]
    },
    {
     "name": "stdout",
     "output_type": "stream",
     "text": [
      "\u001b[31mError:\u001b[0m No formulae found in taps.\r\n"
     ]
    },
    {
     "ename": "AttributeError",
     "evalue": "module '_jpype' has no attribute '_hasClass'",
     "output_type": "error",
     "traceback": [
      "\u001b[0;31m---------------------------------------------------------------------------\u001b[0m",
      "\u001b[0;31mAttributeError\u001b[0m                            Traceback (most recent call last)",
      "\u001b[0;32m<ipython-input-19-36a6adcf8b46>\u001b[0m in \u001b[0;36m<module>\u001b[0;34m\u001b[0m\n\u001b[1;32m     11\u001b[0m \u001b[0;31m# !JAVA_HOME=\"/usr/lib/jvm/java-8-openjdk-amd64\"\u001b[0m\u001b[0;34m\u001b[0m\u001b[0;34m\u001b[0m\u001b[0;34m\u001b[0m\u001b[0m\n\u001b[1;32m     12\u001b[0m \u001b[0;34m\u001b[0m\u001b[0m\n\u001b[0;32m---> 13\u001b[0;31m \u001b[0;32mfrom\u001b[0m \u001b[0mkonlpy\u001b[0m\u001b[0;34m.\u001b[0m\u001b[0mtag\u001b[0m \u001b[0;32mimport\u001b[0m \u001b[0mOkt\u001b[0m\u001b[0;34m\u001b[0m\u001b[0;34m\u001b[0m\u001b[0m\n\u001b[0m",
      "\u001b[0;32m/Library/Frameworks/Python.framework/Versions/3.8/lib/python3.8/site-packages/konlpy/__init__.py\u001b[0m in \u001b[0;36m<module>\u001b[0;34m\u001b[0m\n\u001b[1;32m      9\u001b[0m     \u001b[0;32mpass\u001b[0m\u001b[0;34m\u001b[0m\u001b[0;34m\u001b[0m\u001b[0m\n\u001b[1;32m     10\u001b[0m \u001b[0;34m\u001b[0m\u001b[0m\n\u001b[0;32m---> 11\u001b[0;31m \u001b[0;32mfrom\u001b[0m \u001b[0mkonlpy\u001b[0m\u001b[0;34m.\u001b[0m\u001b[0mjvm\u001b[0m \u001b[0;32mimport\u001b[0m \u001b[0minit_jvm\u001b[0m\u001b[0;34m\u001b[0m\u001b[0;34m\u001b[0m\u001b[0m\n\u001b[0m\u001b[1;32m     12\u001b[0m from konlpy import (\n\u001b[1;32m     13\u001b[0m     \u001b[0mcorpus\u001b[0m\u001b[0;34m,\u001b[0m\u001b[0;34m\u001b[0m\u001b[0;34m\u001b[0m\u001b[0m\n",
      "\u001b[0;32m/Library/Frameworks/Python.framework/Versions/3.8/lib/python3.8/site-packages/konlpy/jvm.py\u001b[0m in \u001b[0;36m<module>\u001b[0;34m\u001b[0m\n\u001b[1;32m      6\u001b[0m \u001b[0;32mimport\u001b[0m \u001b[0msys\u001b[0m\u001b[0;34m\u001b[0m\u001b[0;34m\u001b[0m\u001b[0m\n\u001b[1;32m      7\u001b[0m \u001b[0;32mtry\u001b[0m\u001b[0;34m:\u001b[0m\u001b[0;34m\u001b[0m\u001b[0;34m\u001b[0m\u001b[0m\n\u001b[0;32m----> 8\u001b[0;31m     \u001b[0;32mimport\u001b[0m \u001b[0mjpype\u001b[0m\u001b[0;34m\u001b[0m\u001b[0;34m\u001b[0m\u001b[0m\n\u001b[0m\u001b[1;32m      9\u001b[0m \u001b[0;32mexcept\u001b[0m \u001b[0mImportError\u001b[0m\u001b[0;34m:\u001b[0m\u001b[0;34m\u001b[0m\u001b[0;34m\u001b[0m\u001b[0m\n\u001b[1;32m     10\u001b[0m     \u001b[0;32mpass\u001b[0m\u001b[0;34m\u001b[0m\u001b[0;34m\u001b[0m\u001b[0m\n",
      "\u001b[0;32m/Library/Frameworks/Python.framework/Versions/3.8/lib/python3.8/site-packages/jpype/__init__.py\u001b[0m in \u001b[0;36m<module>\u001b[0;34m\u001b[0m\n\u001b[1;32m     16\u001b[0m \u001b[0;31m# *****************************************************************************\u001b[0m\u001b[0;34m\u001b[0m\u001b[0;34m\u001b[0m\u001b[0;34m\u001b[0m\u001b[0m\n\u001b[1;32m     17\u001b[0m \u001b[0;32mimport\u001b[0m \u001b[0m_jpype\u001b[0m\u001b[0;34m\u001b[0m\u001b[0;34m\u001b[0m\u001b[0m\n\u001b[0;32m---> 18\u001b[0;31m \u001b[0;32mfrom\u001b[0m \u001b[0;34m.\u001b[0m\u001b[0m_jpackage\u001b[0m \u001b[0;32mimport\u001b[0m \u001b[0;34m*\u001b[0m\u001b[0;34m\u001b[0m\u001b[0;34m\u001b[0m\u001b[0m\n\u001b[0m\u001b[1;32m     19\u001b[0m \u001b[0;32mfrom\u001b[0m \u001b[0;34m.\u001b[0m\u001b[0m_jproxy\u001b[0m \u001b[0;32mimport\u001b[0m \u001b[0;34m*\u001b[0m\u001b[0;34m\u001b[0m\u001b[0;34m\u001b[0m\u001b[0m\n\u001b[1;32m     20\u001b[0m \u001b[0;32mfrom\u001b[0m \u001b[0;34m.\u001b[0m\u001b[0m_core\u001b[0m \u001b[0;32mimport\u001b[0m \u001b[0;34m*\u001b[0m\u001b[0;34m\u001b[0m\u001b[0;34m\u001b[0m\u001b[0m\n",
      "\u001b[0;32m/Library/Frameworks/Python.framework/Versions/3.8/lib/python3.8/site-packages/jpype/_jpackage.py\u001b[0m in \u001b[0;36m<module>\u001b[0;34m\u001b[0m\n\u001b[1;32m     18\u001b[0m \u001b[0;32mimport\u001b[0m \u001b[0mre\u001b[0m\u001b[0;34m\u001b[0m\u001b[0;34m\u001b[0m\u001b[0m\n\u001b[1;32m     19\u001b[0m \u001b[0;32mimport\u001b[0m \u001b[0m_jpype\u001b[0m\u001b[0;34m\u001b[0m\u001b[0;34m\u001b[0m\u001b[0m\n\u001b[0;32m---> 20\u001b[0;31m \u001b[0;32mfrom\u001b[0m \u001b[0;34m.\u001b[0m \u001b[0;32mimport\u001b[0m \u001b[0m_jclass\u001b[0m\u001b[0;34m\u001b[0m\u001b[0;34m\u001b[0m\u001b[0m\n\u001b[0m\u001b[1;32m     21\u001b[0m \u001b[0;34m\u001b[0m\u001b[0m\n\u001b[1;32m     22\u001b[0m \u001b[0m__all__\u001b[0m \u001b[0;34m=\u001b[0m \u001b[0;34m[\u001b[0m\u001b[0;34m'JPackage'\u001b[0m\u001b[0;34m]\u001b[0m\u001b[0;34m\u001b[0m\u001b[0;34m\u001b[0m\u001b[0m\n",
      "\u001b[0;32m/Library/Frameworks/Python.framework/Versions/3.8/lib/python3.8/site-packages/jpype/_jclass.py\u001b[0m in \u001b[0;36m<module>\u001b[0;34m\u001b[0m\n\u001b[1;32m     16\u001b[0m \u001b[0;32mimport\u001b[0m \u001b[0m_jpype\u001b[0m\u001b[0;34m\u001b[0m\u001b[0;34m\u001b[0m\u001b[0m\n\u001b[1;32m     17\u001b[0m \u001b[0;32mfrom\u001b[0m \u001b[0;34m.\u001b[0m\u001b[0m_pykeywords\u001b[0m \u001b[0;32mimport\u001b[0m \u001b[0mpysafe\u001b[0m\u001b[0;34m\u001b[0m\u001b[0;34m\u001b[0m\u001b[0m\n\u001b[0;32m---> 18\u001b[0;31m \u001b[0;32mfrom\u001b[0m \u001b[0;34m.\u001b[0m \u001b[0;32mimport\u001b[0m \u001b[0m_jcustomizer\u001b[0m\u001b[0;34m\u001b[0m\u001b[0;34m\u001b[0m\u001b[0m\n\u001b[0m\u001b[1;32m     19\u001b[0m \u001b[0;34m\u001b[0m\u001b[0m\n\u001b[1;32m     20\u001b[0m \u001b[0m__all__\u001b[0m \u001b[0;34m=\u001b[0m \u001b[0;34m[\u001b[0m\u001b[0;34m'JClass'\u001b[0m\u001b[0;34m,\u001b[0m \u001b[0;34m'JInterface'\u001b[0m\u001b[0;34m,\u001b[0m \u001b[0;34m'JOverride'\u001b[0m\u001b[0;34m]\u001b[0m\u001b[0;34m\u001b[0m\u001b[0;34m\u001b[0m\u001b[0m\n",
      "\u001b[0;32m/Library/Frameworks/Python.framework/Versions/3.8/lib/python3.8/site-packages/jpype/_jcustomizer.py\u001b[0m in \u001b[0;36m<module>\u001b[0;34m\u001b[0m\n\u001b[1;32m    205\u001b[0m \u001b[0;34m\u001b[0m\u001b[0m\n\u001b[1;32m    206\u001b[0m \u001b[0;34m\u001b[0m\u001b[0m\n\u001b[0;32m--> 207\u001b[0;31m \u001b[0mregisterClassBase\u001b[0m\u001b[0;34m(\u001b[0m\u001b[0;34m\"java.lang.IndexOutOfBoundsException\"\u001b[0m\u001b[0;34m,\u001b[0m \u001b[0mIndexError\u001b[0m\u001b[0;34m)\u001b[0m\u001b[0;34m\u001b[0m\u001b[0;34m\u001b[0m\u001b[0m\n\u001b[0m\u001b[1;32m    208\u001b[0m \u001b[0;34m\u001b[0m\u001b[0m\n",
      "\u001b[0;32m/Library/Frameworks/Python.framework/Versions/3.8/lib/python3.8/site-packages/jpype/_jcustomizer.py\u001b[0m in \u001b[0;36mregisterClassBase\u001b[0;34m(name, cls)\u001b[0m\n\u001b[1;32m     35\u001b[0m     \u001b[0;31m# Changing the base class in python can break things,\u001b[0m\u001b[0;34m\u001b[0m\u001b[0;34m\u001b[0m\u001b[0;34m\u001b[0m\u001b[0m\n\u001b[1;32m     36\u001b[0m     \u001b[0;31m# so we will tag this as an error for now.\u001b[0m\u001b[0;34m\u001b[0m\u001b[0;34m\u001b[0m\u001b[0;34m\u001b[0m\u001b[0m\n\u001b[0;32m---> 37\u001b[0;31m     \u001b[0;32mif\u001b[0m \u001b[0m_jpype\u001b[0m\u001b[0;34m.\u001b[0m\u001b[0m_hasClass\u001b[0m\u001b[0;34m(\u001b[0m\u001b[0mname\u001b[0m\u001b[0;34m)\u001b[0m\u001b[0;34m:\u001b[0m\u001b[0;34m\u001b[0m\u001b[0;34m\u001b[0m\u001b[0m\n\u001b[0m\u001b[1;32m     38\u001b[0m         raise TypeError(\n\u001b[1;32m     39\u001b[0m             \"Base classes must be added before class is created\")\n",
      "\u001b[0;31mAttributeError\u001b[0m: module '_jpype' has no attribute '_hasClass'"
     ]
    }
   ],
   "source": [
    "# 한국어 처리에 필요한 konlpy 패키지를 설치하기 전에 선행 파일을 설치한다. \n",
    "# !brew update\n",
    "\n",
    "\n",
    "!brew install g++ openjdk-8-jdk python-dev python3-dev\n",
    "\n",
    "# !pip3 install JPype1-py3\n",
    "\n",
    "# !pip3 install konlpy\n",
    "\n",
    "# !JAVA_HOME=\"/usr/lib/jvm/java-8-openjdk-amd64\"\n",
    "\n",
    "from konlpy.tag import Okt"
   ]
  },
  {
   "cell_type": "code",
   "execution_count": 9,
   "metadata": {
    "colab": {},
    "colab_type": "code",
    "id": "dJbbAta148Tc"
   },
   "outputs": [
    {
     "ename": "AttributeError",
     "evalue": "module '_jpype' has no attribute '_hasClass'",
     "output_type": "error",
     "traceback": [
      "\u001b[0;31m---------------------------------------------------------------------------\u001b[0m",
      "\u001b[0;31mAttributeError\u001b[0m                            Traceback (most recent call last)",
      "\u001b[0;32m<ipython-input-9-31c208bbbbd1>\u001b[0m in \u001b[0;36m<module>\u001b[0;34m\u001b[0m\n\u001b[0;32m----> 1\u001b[0;31m \u001b[0;32mfrom\u001b[0m \u001b[0mkonlpy\u001b[0m\u001b[0;34m.\u001b[0m\u001b[0mtag\u001b[0m \u001b[0;32mimport\u001b[0m \u001b[0mOkt\u001b[0m\u001b[0;34m\u001b[0m\u001b[0;34m\u001b[0m\u001b[0m\n\u001b[0m\u001b[1;32m      2\u001b[0m \u001b[0;31m# NLTK 패키지를 이용하여 입력 텍스트를 N-gram 형태로 변환한다.\u001b[0m\u001b[0;34m\u001b[0m\u001b[0;34m\u001b[0m\u001b[0;34m\u001b[0m\u001b[0m\n\u001b[1;32m      3\u001b[0m \u001b[0msentence\u001b[0m \u001b[0;34m=\u001b[0m \u001b[0;34m\"나는 매일 아침 지하철을 탄다\"\u001b[0m\u001b[0;34m\u001b[0m\u001b[0;34m\u001b[0m\u001b[0m\n",
      "\u001b[0;32m/Library/Frameworks/Python.framework/Versions/3.8/lib/python3.8/site-packages/konlpy/__init__.py\u001b[0m in \u001b[0;36m<module>\u001b[0;34m\u001b[0m\n\u001b[1;32m      9\u001b[0m     \u001b[0;32mpass\u001b[0m\u001b[0;34m\u001b[0m\u001b[0;34m\u001b[0m\u001b[0m\n\u001b[1;32m     10\u001b[0m \u001b[0;34m\u001b[0m\u001b[0m\n\u001b[0;32m---> 11\u001b[0;31m \u001b[0;32mfrom\u001b[0m \u001b[0mkonlpy\u001b[0m\u001b[0;34m.\u001b[0m\u001b[0mjvm\u001b[0m \u001b[0;32mimport\u001b[0m \u001b[0minit_jvm\u001b[0m\u001b[0;34m\u001b[0m\u001b[0;34m\u001b[0m\u001b[0m\n\u001b[0m\u001b[1;32m     12\u001b[0m from konlpy import (\n\u001b[1;32m     13\u001b[0m     \u001b[0mcorpus\u001b[0m\u001b[0;34m,\u001b[0m\u001b[0;34m\u001b[0m\u001b[0;34m\u001b[0m\u001b[0m\n",
      "\u001b[0;32m/Library/Frameworks/Python.framework/Versions/3.8/lib/python3.8/site-packages/konlpy/jvm.py\u001b[0m in \u001b[0;36m<module>\u001b[0;34m\u001b[0m\n\u001b[1;32m      6\u001b[0m \u001b[0;32mimport\u001b[0m \u001b[0msys\u001b[0m\u001b[0;34m\u001b[0m\u001b[0;34m\u001b[0m\u001b[0m\n\u001b[1;32m      7\u001b[0m \u001b[0;32mtry\u001b[0m\u001b[0;34m:\u001b[0m\u001b[0;34m\u001b[0m\u001b[0;34m\u001b[0m\u001b[0m\n\u001b[0;32m----> 8\u001b[0;31m     \u001b[0;32mimport\u001b[0m \u001b[0mjpype\u001b[0m\u001b[0;34m\u001b[0m\u001b[0;34m\u001b[0m\u001b[0m\n\u001b[0m\u001b[1;32m      9\u001b[0m \u001b[0;32mexcept\u001b[0m \u001b[0mImportError\u001b[0m\u001b[0;34m:\u001b[0m\u001b[0;34m\u001b[0m\u001b[0;34m\u001b[0m\u001b[0m\n\u001b[1;32m     10\u001b[0m     \u001b[0;32mpass\u001b[0m\u001b[0;34m\u001b[0m\u001b[0;34m\u001b[0m\u001b[0m\n",
      "\u001b[0;32m/Library/Frameworks/Python.framework/Versions/3.8/lib/python3.8/site-packages/jpype/__init__.py\u001b[0m in \u001b[0;36m<module>\u001b[0;34m\u001b[0m\n\u001b[1;32m     16\u001b[0m \u001b[0;31m# *****************************************************************************\u001b[0m\u001b[0;34m\u001b[0m\u001b[0;34m\u001b[0m\u001b[0;34m\u001b[0m\u001b[0m\n\u001b[1;32m     17\u001b[0m \u001b[0;32mimport\u001b[0m \u001b[0m_jpype\u001b[0m\u001b[0;34m\u001b[0m\u001b[0;34m\u001b[0m\u001b[0m\n\u001b[0;32m---> 18\u001b[0;31m \u001b[0;32mfrom\u001b[0m \u001b[0;34m.\u001b[0m\u001b[0m_jpackage\u001b[0m \u001b[0;32mimport\u001b[0m \u001b[0;34m*\u001b[0m\u001b[0;34m\u001b[0m\u001b[0;34m\u001b[0m\u001b[0m\n\u001b[0m\u001b[1;32m     19\u001b[0m \u001b[0;32mfrom\u001b[0m \u001b[0;34m.\u001b[0m\u001b[0m_jproxy\u001b[0m \u001b[0;32mimport\u001b[0m \u001b[0;34m*\u001b[0m\u001b[0;34m\u001b[0m\u001b[0;34m\u001b[0m\u001b[0m\n\u001b[1;32m     20\u001b[0m \u001b[0;32mfrom\u001b[0m \u001b[0;34m.\u001b[0m\u001b[0m_core\u001b[0m \u001b[0;32mimport\u001b[0m \u001b[0;34m*\u001b[0m\u001b[0;34m\u001b[0m\u001b[0;34m\u001b[0m\u001b[0m\n",
      "\u001b[0;32m/Library/Frameworks/Python.framework/Versions/3.8/lib/python3.8/site-packages/jpype/_jpackage.py\u001b[0m in \u001b[0;36m<module>\u001b[0;34m\u001b[0m\n\u001b[1;32m     18\u001b[0m \u001b[0;32mimport\u001b[0m \u001b[0mre\u001b[0m\u001b[0;34m\u001b[0m\u001b[0;34m\u001b[0m\u001b[0m\n\u001b[1;32m     19\u001b[0m \u001b[0;32mimport\u001b[0m \u001b[0m_jpype\u001b[0m\u001b[0;34m\u001b[0m\u001b[0;34m\u001b[0m\u001b[0m\n\u001b[0;32m---> 20\u001b[0;31m \u001b[0;32mfrom\u001b[0m \u001b[0;34m.\u001b[0m \u001b[0;32mimport\u001b[0m \u001b[0m_jclass\u001b[0m\u001b[0;34m\u001b[0m\u001b[0;34m\u001b[0m\u001b[0m\n\u001b[0m\u001b[1;32m     21\u001b[0m \u001b[0;34m\u001b[0m\u001b[0m\n\u001b[1;32m     22\u001b[0m \u001b[0m__all__\u001b[0m \u001b[0;34m=\u001b[0m \u001b[0;34m[\u001b[0m\u001b[0;34m'JPackage'\u001b[0m\u001b[0;34m]\u001b[0m\u001b[0;34m\u001b[0m\u001b[0;34m\u001b[0m\u001b[0m\n",
      "\u001b[0;32m/Library/Frameworks/Python.framework/Versions/3.8/lib/python3.8/site-packages/jpype/_jclass.py\u001b[0m in \u001b[0;36m<module>\u001b[0;34m\u001b[0m\n\u001b[1;32m     16\u001b[0m \u001b[0;32mimport\u001b[0m \u001b[0m_jpype\u001b[0m\u001b[0;34m\u001b[0m\u001b[0;34m\u001b[0m\u001b[0m\n\u001b[1;32m     17\u001b[0m \u001b[0;32mfrom\u001b[0m \u001b[0;34m.\u001b[0m\u001b[0m_pykeywords\u001b[0m \u001b[0;32mimport\u001b[0m \u001b[0mpysafe\u001b[0m\u001b[0;34m\u001b[0m\u001b[0;34m\u001b[0m\u001b[0m\n\u001b[0;32m---> 18\u001b[0;31m \u001b[0;32mfrom\u001b[0m \u001b[0;34m.\u001b[0m \u001b[0;32mimport\u001b[0m \u001b[0m_jcustomizer\u001b[0m\u001b[0;34m\u001b[0m\u001b[0;34m\u001b[0m\u001b[0m\n\u001b[0m\u001b[1;32m     19\u001b[0m \u001b[0;34m\u001b[0m\u001b[0m\n\u001b[1;32m     20\u001b[0m \u001b[0m__all__\u001b[0m \u001b[0;34m=\u001b[0m \u001b[0;34m[\u001b[0m\u001b[0;34m'JClass'\u001b[0m\u001b[0;34m,\u001b[0m \u001b[0;34m'JInterface'\u001b[0m\u001b[0;34m,\u001b[0m \u001b[0;34m'JOverride'\u001b[0m\u001b[0;34m]\u001b[0m\u001b[0;34m\u001b[0m\u001b[0;34m\u001b[0m\u001b[0m\n",
      "\u001b[0;32m/Library/Frameworks/Python.framework/Versions/3.8/lib/python3.8/site-packages/jpype/_jcustomizer.py\u001b[0m in \u001b[0;36m<module>\u001b[0;34m\u001b[0m\n\u001b[1;32m    205\u001b[0m \u001b[0;34m\u001b[0m\u001b[0m\n\u001b[1;32m    206\u001b[0m \u001b[0;34m\u001b[0m\u001b[0m\n\u001b[0;32m--> 207\u001b[0;31m \u001b[0mregisterClassBase\u001b[0m\u001b[0;34m(\u001b[0m\u001b[0;34m\"java.lang.IndexOutOfBoundsException\"\u001b[0m\u001b[0;34m,\u001b[0m \u001b[0mIndexError\u001b[0m\u001b[0;34m)\u001b[0m\u001b[0;34m\u001b[0m\u001b[0;34m\u001b[0m\u001b[0m\n\u001b[0m\u001b[1;32m    208\u001b[0m \u001b[0;34m\u001b[0m\u001b[0m\n",
      "\u001b[0;32m/Library/Frameworks/Python.framework/Versions/3.8/lib/python3.8/site-packages/jpype/_jcustomizer.py\u001b[0m in \u001b[0;36mregisterClassBase\u001b[0;34m(name, cls)\u001b[0m\n\u001b[1;32m     35\u001b[0m     \u001b[0;31m# Changing the base class in python can break things,\u001b[0m\u001b[0;34m\u001b[0m\u001b[0;34m\u001b[0m\u001b[0;34m\u001b[0m\u001b[0m\n\u001b[1;32m     36\u001b[0m     \u001b[0;31m# so we will tag this as an error for now.\u001b[0m\u001b[0;34m\u001b[0m\u001b[0;34m\u001b[0m\u001b[0;34m\u001b[0m\u001b[0m\n\u001b[0;32m---> 37\u001b[0;31m     \u001b[0;32mif\u001b[0m \u001b[0m_jpype\u001b[0m\u001b[0;34m.\u001b[0m\u001b[0m_hasClass\u001b[0m\u001b[0;34m(\u001b[0m\u001b[0mname\u001b[0m\u001b[0;34m)\u001b[0m\u001b[0;34m:\u001b[0m\u001b[0;34m\u001b[0m\u001b[0;34m\u001b[0m\u001b[0m\n\u001b[0m\u001b[1;32m     38\u001b[0m         raise TypeError(\n\u001b[1;32m     39\u001b[0m             \"Base classes must be added before class is created\")\n",
      "\u001b[0;31mAttributeError\u001b[0m: module '_jpype' has no attribute '_hasClass'"
     ]
    }
   ],
   "source": [
    "from konlpy.tag import Okt\n",
    "# NLTK 패키지를 이용하여 입력 텍스트를 N-gram 형태로 변환한다.\n",
    "sentence = \"나는 매일 아침 지하철을 탄다\""
   ]
  },
  {
   "cell_type": "code",
   "execution_count": 6,
   "metadata": {
    "colab": {
     "base_uri": "https://localhost:8080/",
     "height": 55
    },
    "colab_type": "code",
    "id": "Kvvfewcs5OR4",
    "outputId": "3accf3be-569e-49fb-830e-d637cce58dd7"
   },
   "outputs": [
    {
     "name": "stderr",
     "output_type": "stream",
     "text": [
      "[nltk_data] Downloading package punkt to /Users/edwardwon/nltk_data...\n",
      "[nltk_data]   Package punkt is already up-to-date!\n"
     ]
    }
   ],
   "source": [
    "# NLTK 사용을 위하여 선행 패키지를 설치한다.\n",
    "nltk.download('punkt')\n",
    "\n",
    "# 입력 텍스트를 띄어쓰기 기준으로 토큰화한다.\n",
    "tokens = word_tokenize(sentence) "
   ]
  },
  {
   "cell_type": "code",
   "execution_count": 7,
   "metadata": {
    "colab": {
     "base_uri": "https://localhost:8080/",
     "height": 36
    },
    "colab_type": "code",
    "id": "fSAEP3U65nav",
    "outputId": "4aabcad5-a640-43c1-a70d-1eb261794a61"
   },
   "outputs": [
    {
     "name": "stdout",
     "output_type": "stream",
     "text": [
      "['나는', '매일', '아침', '지하철을', '탄다']\n"
     ]
    }
   ],
   "source": [
    "print(tokens)"
   ]
  },
  {
   "cell_type": "code",
   "execution_count": 8,
   "metadata": {
    "colab": {
     "base_uri": "https://localhost:8080/",
     "height": 36
    },
    "colab_type": "code",
    "id": "jLTfZw_fcxhs",
    "outputId": "09e44664-2b86-4838-ca72-a24aec8c572a"
   },
   "outputs": [
    {
     "ename": "NameError",
     "evalue": "name 'Okt' is not defined",
     "output_type": "error",
     "traceback": [
      "\u001b[0;31m---------------------------------------------------------------------------\u001b[0m",
      "\u001b[0;31mNameError\u001b[0m                                 Traceback (most recent call last)",
      "\u001b[0;32m<ipython-input-8-a071944331c8>\u001b[0m in \u001b[0;36m<module>\u001b[0;34m\u001b[0m\n\u001b[1;32m      1\u001b[0m \u001b[0;31m# 한국어의 단어는 띄어쓰기를 기준으로 하지 않기 때문에 konlpy를 이용해 형태소를 기준으로 토큰화한다.\u001b[0m\u001b[0;34m\u001b[0m\u001b[0;34m\u001b[0m\u001b[0;34m\u001b[0m\u001b[0m\n\u001b[0;32m----> 2\u001b[0;31m \u001b[0mtagger\u001b[0m \u001b[0;34m=\u001b[0m \u001b[0mOkt\u001b[0m\u001b[0;34m(\u001b[0m\u001b[0;34m)\u001b[0m\u001b[0;34m\u001b[0m\u001b[0;34m\u001b[0m\u001b[0m\n\u001b[0m\u001b[1;32m      3\u001b[0m \u001b[0;34m\u001b[0m\u001b[0m\n\u001b[1;32m      4\u001b[0m \u001b[0;32mdef\u001b[0m \u001b[0mtokenize\u001b[0m\u001b[0;34m(\u001b[0m\u001b[0mtext\u001b[0m\u001b[0;34m)\u001b[0m\u001b[0;34m:\u001b[0m\u001b[0;34m\u001b[0m\u001b[0;34m\u001b[0m\u001b[0m\n\u001b[1;32m      5\u001b[0m   \u001b[0mtokens\u001b[0m \u001b[0;34m=\u001b[0m \u001b[0;34m[\u001b[0m\u001b[0;34m'/'\u001b[0m\u001b[0;34m.\u001b[0m\u001b[0mjoin\u001b[0m\u001b[0;34m(\u001b[0m\u001b[0mt\u001b[0m\u001b[0;34m)\u001b[0m \u001b[0;32mfor\u001b[0m \u001b[0mt\u001b[0m \u001b[0;32min\u001b[0m \u001b[0mtagger\u001b[0m\u001b[0;34m.\u001b[0m\u001b[0mpos\u001b[0m\u001b[0;34m(\u001b[0m\u001b[0mtext\u001b[0m\u001b[0;34m)\u001b[0m\u001b[0;34m]\u001b[0m\u001b[0;34m\u001b[0m\u001b[0;34m\u001b[0m\u001b[0m\n",
      "\u001b[0;31mNameError\u001b[0m: name 'Okt' is not defined"
     ]
    }
   ],
   "source": [
    "# 한국어의 단어는 띄어쓰기를 기준으로 하지 않기 때문에 konlpy를 이용해 형태소를 기준으로 토큰화한다.\n",
    "tagger = Okt()\n",
    "\n",
    "def tokenize(text):\n",
    "  tokens = ['/'.join(t) for t in tagger.pos(text)]\n",
    "  return tokens\n",
    "\n",
    "tokens = tokenize(sentence)\n",
    "print(tokens)"
   ]
  },
  {
   "cell_type": "code",
   "execution_count": null,
   "metadata": {
    "colab": {},
    "colab_type": "code",
    "id": "dgWgUE_N5yEf"
   },
   "outputs": [],
   "source": [
    "# 토큰을 N-gram의 형태로 바꾸어준다. \n",
    "# ngrams 함수의 두 번째 인자로 N값을 지정할 수 있다.\n",
    "bigram = ngrams(tokens, 2)\n",
    "trigram = ngrams(tokens, 3)"
   ]
  },
  {
   "cell_type": "code",
   "execution_count": null,
   "metadata": {
    "colab": {
     "base_uri": "https://localhost:8080/",
     "height": 279
    },
    "colab_type": "code",
    "id": "1FTnRG9O63WX",
    "outputId": "f182814f-3870-406c-8a22-c171afae6106"
   },
   "outputs": [],
   "source": [
    "# N-gram을 출력해본다.\n",
    "print(\"bigram: \")\n",
    "for b in bigram:\n",
    "  print(b)\n",
    "\n",
    "print(\"\\ntrigram: \")\n",
    "for t in trigram:\n",
    "  print(t) "
   ]
  },
  {
   "cell_type": "code",
   "execution_count": null,
   "metadata": {
    "colab": {
     "base_uri": "https://localhost:8080/",
     "height": 185
    },
    "colab_type": "code",
    "id": "F0MpXv1H6_Gd",
    "outputId": "94937940-2e6d-4350-dfb3-d8800b2b4ce1"
   },
   "outputs": [],
   "source": [
    "# padding을 통해 입력 데이터에 문장의 시작과 끝을 알리는 토큰을 추가한다. \n",
    "bigram = ngrams(tokens, 2, pad_left=True, pad_right=True, left_pad_symbol=\"<s>\", right_pad_symbol=\"</s>\")\n",
    "print(\"bigrams with padding: \")\n",
    "for b in bigram:\n",
    "  print(b)"
   ]
  },
  {
   "cell_type": "code",
   "execution_count": null,
   "metadata": {
    "colab": {
     "base_uri": "https://localhost:8080/",
     "height": 55
    },
    "colab_type": "code",
    "id": "Cr25hyHn9Shh",
    "outputId": "4f1b26b9-5a25-4283-ab92-e4f3871a985e"
   },
   "outputs": [],
   "source": [
    "# 문장 생성을 위하여 네이버 영화 리뷰 데이터셋을 다운로드한다.\n",
    "%%time\n",
    "!wget -nc -q https://raw.githubusercontent.com/e9t/nsmc/master/ratings_train.txt"
   ]
  },
  {
   "cell_type": "code",
   "execution_count": null,
   "metadata": {
    "colab": {
     "base_uri": "https://localhost:8080/",
     "height": 131
    },
    "colab_type": "code",
    "id": "TS64JsKs92Xi",
    "outputId": "7d8d149a-ca02-42e5-c923-8e9edc3802e0"
   },
   "outputs": [],
   "source": [
    "# 다운로드 받은 데이터셋을 읽고 인덱스와 라벨을 제외한 텍스트 부분만 가져온다.\n",
    "# codecs 패키지는 대용량 파일을 조금씩 읽을 수 있게 해준다. \n",
    "\n",
    "with codecs.open(\"ratings_train.txt\", encoding='utf-8') as f:\n",
    "  data = [line.split('\\t') for line in f.read().splitlines()] # \\n 제외\n",
    "  data = data[1:] # header 제외\n",
    "print(\"데이터셋: \", data[:10])\n",
    "docs = [row[1] for row in data] # 텍스트 부분만 가져옴\n",
    "print(\"\\n텍스트 데이터:\", docs[:5])\n",
    "print(\"\\n문장 개수: \",len(docs)) # 총 15만개의 문장으로 이루어진 데이터셋임을 알 수 있다."
   ]
  },
  {
   "cell_type": "code",
   "execution_count": null,
   "metadata": {
    "colab": {
     "base_uri": "https://localhost:8080/",
     "height": 36
    },
    "colab_type": "code",
    "id": "XAd9C--T9_AP",
    "outputId": "fa13fa39-e9f8-4d88-e123-3a6f6bdf561b"
   },
   "outputs": [],
   "source": [
    "# 토큰화한 텍스트 데이터의 bigram을 모두 리스트에 추가한다.\n",
    "sentences = []\n",
    "for d in tqdm(docs):\n",
    "  tokens = tokenize(d)\n",
    "  bigram = ngrams(tokens, 2, pad_left=True, pad_right=True, left_pad_symbol=\"<s>\", right_pad_symbol=\"</s>\")\n",
    "  sentences += [t for t in bigram]"
   ]
  },
  {
   "cell_type": "code",
   "execution_count": null,
   "metadata": {
    "colab": {
     "base_uri": "https://localhost:8080/",
     "height": 56
    },
    "colab_type": "code",
    "id": "U_Pf91qqj9PH",
    "outputId": "97922410-f2b5-4994-8168-ee56bd0de800"
   },
   "outputs": [],
   "source": [
    "print(sentences[:10])"
   ]
  },
  {
   "cell_type": "code",
   "execution_count": null,
   "metadata": {
    "colab": {
     "base_uri": "https://localhost:8080/",
     "height": 36
    },
    "colab_type": "code",
    "id": "gL31DVi1ld25",
    "outputId": "d85d0e9f-3eea-4156-c0bf-6dd4f1261d49"
   },
   "outputs": [],
   "source": [
    "cfd = ConditionalFreqDist(sentences)\n",
    "print(cfd[\"<s>\"].most_common(5))"
   ]
  },
  {
   "cell_type": "code",
   "execution_count": null,
   "metadata": {
    "colab": {},
    "colab_type": "code",
    "id": "jYm2U1nhndI6"
   },
   "outputs": [],
   "source": [
    "# 주어진 토큰(c) 다음에 가장 많이 등장하는 n개의 단어를 반환하는 함수를 만든다.\n",
    "def most_common(c, n, pos=None):\n",
    "  if pos is None:\n",
    "    return cfd[tokenize(c)[0]].most_common(n)\n",
    "  else:\n",
    "    return cfd[\"/\".join([c, pos])].most_common(n)"
   ]
  },
  {
   "cell_type": "code",
   "execution_count": null,
   "metadata": {
    "colab": {
     "base_uri": "https://localhost:8080/",
     "height": 56
    },
    "colab_type": "code",
    "id": "73MTcDKPoliE",
    "outputId": "8b80ad0e-cd2a-4c56-adf0-78a3fb9e5b19"
   },
   "outputs": [],
   "source": [
    "print(most_common(\"나\", 10))"
   ]
  },
  {
   "cell_type": "code",
   "execution_count": null,
   "metadata": {
    "colab": {},
    "colab_type": "code",
    "id": "AaoisqGFnZaK"
   },
   "outputs": [],
   "source": [
    "# 단어별 등장 빈도를 기반으로 조건부 확률을 추정한다.\n",
    "cpd = ConditionalProbDist(cfd, MLEProbDist)"
   ]
  },
  {
   "cell_type": "code",
   "execution_count": null,
   "metadata": {
    "colab": {
     "base_uri": "https://localhost:8080/",
     "height": 36
    },
    "colab_type": "code",
    "id": "WrIUwvsOmv17",
    "outputId": "c10b52a2-eaf6-43e1-b8b7-7c51fad1c3bf"
   },
   "outputs": [],
   "source": [
    "# “.” 다음에 “</s>”가 올 확률을 출력한다.\n",
    "print(cpd[tokenize(\".\")[0]].prob(\"</s>\"))"
   ]
  },
  {
   "cell_type": "code",
   "execution_count": null,
   "metadata": {
    "colab": {},
    "colab_type": "code",
    "id": "RPJO9Bw9sLcL"
   },
   "outputs": [],
   "source": [
    "# 토큰 c 다음에 토큰 w가 bigram으로 함께 등장할 확률을 구한다.\n",
    "def bigram_prob(c, w):\n",
    "  context = tokenize(c)[0]\n",
    "  word = tokenize(w)[0]\n",
    "  return cpd[context].prob(word)"
   ]
  },
  {
   "cell_type": "code",
   "execution_count": null,
   "metadata": {
    "colab": {
     "base_uri": "https://localhost:8080/",
     "height": 36
    },
    "colab_type": "code",
    "id": "5W56LrNYs6MO",
    "outputId": "58610ee4-08f0-4cbe-d7a6-9a7d8fcacc67"
   },
   "outputs": [],
   "source": [
    "print(bigram_prob(\"이\", \"영화\"))"
   ]
  },
  {
   "cell_type": "code",
   "execution_count": null,
   "metadata": {
    "colab": {
     "base_uri": "https://localhost:8080/",
     "height": 36
    },
    "colab_type": "code",
    "id": "80QHPkHXs9qX",
    "outputId": "6fae7357-5f9e-4ea4-d13f-9aec6f3d8f7c"
   },
   "outputs": [],
   "source": [
    "print(bigram_prob(\"영화\", \"이\"))"
   ]
  },
  {
   "cell_type": "code",
   "execution_count": null,
   "metadata": {
    "colab": {},
    "colab_type": "code",
    "id": "Jat3RD0LtJ8Z"
   },
   "outputs": [],
   "source": [
    "# 조건부 확률을 알게 되면 가장 확률이 높은 토큰열을 토대로 문장을 생성할 수 있다.\n",
    "def generate_sentence(seed=None, debug=False):\n",
    "  if seed is not None:\n",
    "    import random\n",
    "    random.seed(seed)\n",
    "  c = \"<s>\"\n",
    "  sentence = []\n",
    "  while True:\n",
    "    if c not in cpd:\n",
    "      break\n",
    "    w = cpd[c].generate()\n",
    "\n",
    "    if w == \"</s>\":\n",
    "      break\n",
    "    \n",
    "    word = w.split(\"/\")[0]\n",
    "    pos = w.split(\"/\")[1]\n",
    "\n",
    "    # 조사, 어미 등을 제외하고 각 토큰은 띄어쓰기로 구분하여 생성한다.\n",
    "    if c == \"<s>\":\n",
    "      sentence.append(word.title())\n",
    "    elif c in [\"`\", \"\\\"\",\"'\",\"(\"]:\n",
    "      sentence.append(word)\n",
    "    elif word in [\"'\", \".\", \",\", \")\", \":\", \";\", \"?\"]:\n",
    "      sentence.append(word)\n",
    "    elif pos in [\"Josa\", \"Punctuation\", \"Suffix\"]:\n",
    "        sentence.append(word)\n",
    "    elif w in [\"임/Noun\", \"것/Noun\", \"는걸/Noun\", \"릴때/Noun\",\n",
    "                \"되다/Verb\", \"이다/Verb\", \"하다/Verb\", \"이다/Adjective\"]:\n",
    "        sentence.append(word)\n",
    "    else:\n",
    "        sentence.append(\" \" + word)\n",
    "    c = w\n",
    "\n",
    "    if debug:\n",
    "      print(w)\n",
    "\n",
    "  return \"\".join(sentence)"
   ]
  },
  {
   "cell_type": "code",
   "execution_count": null,
   "metadata": {
    "colab": {
     "base_uri": "https://localhost:8080/",
     "height": 56
    },
    "colab_type": "code",
    "id": "pgWQJXqRuLMF",
    "outputId": "2a218810-c33e-4ecf-ea42-87c4e5499f04"
   },
   "outputs": [],
   "source": [
    "print(generate_sentence(2))"
   ]
  },
  {
   "cell_type": "code",
   "execution_count": null,
   "metadata": {
    "colab": {
     "base_uri": "https://localhost:8080/",
     "height": 1000
    },
    "colab_type": "code",
    "id": "7RdPvL2AuLy8",
    "outputId": "1d4f81c7-7e6f-406a-f024-2d6abfdc7cc3"
   },
   "outputs": [],
   "source": [
    "generate_sentence(2, debug=True)"
   ]
  },
  {
   "cell_type": "markdown",
   "metadata": {
    "colab_type": "text",
    "id": "6wV8yp-J2U5j"
   },
   "source": [
    "### 5. 결과\n",
    "： 위 예제는 코퍼스 내의 등장 빈도에 기반하여 문장을 생성한다. bigram 언어 모델로 생성한 것이기 때문에 인접한 두 단어는 그나마 자연스럽지만 멀리 떨어진 단어와는 전혀 무관한 모습을 보인다. 또한 생성된 문장의 전체적인 문맥이 부자연스러우며 통사적으로 부적절한 모습도 보인다. 이는 코퍼스 내의 정보만으로 제한된 단어 조합만을 고려하는 N-gram 언어 모델의 한계로 보인다. 위 예제는 단순화를 위해 전처리와 규칙 처리를 최소화하였는데, 데이터셋을 늘리고 한국어 특징에 맞게 전처리를 진행한다면 보다 향상된 결과를 얻을 수 있을 것이다.\n"
   ]
  },
  {
   "cell_type": "markdown",
   "metadata": {
    "colab_type": "text",
    "id": "BaSov8sY2w1s"
   },
   "source": [
    "<참고>\n",
    "\n",
    "> https://datascienceschool.net/view-notebook/a0c848e1e2d343d685e6077c35c4203b/\n",
    "\n",
    "\n"
   ]
  },
  {
   "cell_type": "code",
   "execution_count": 0,
   "metadata": {
    "colab": {},
    "colab_type": "code",
    "id": "T8lEfVvr2x7z"
   },
   "outputs": [],
   "source": []
  }
 ],
 "metadata": {
  "colab": {
   "collapsed_sections": [],
   "name": "실습 [9-1] N-gram 언어 모델로 문장 생성하기",
   "provenance": []
  },
  "kernelspec": {
   "display_name": "Python 3",
   "language": "python",
   "name": "python3"
  },
  "language_info": {
   "codemirror_mode": {
    "name": "ipython",
    "version": 3
   },
   "file_extension": ".py",
   "mimetype": "text/x-python",
   "name": "python",
   "nbconvert_exporter": "python",
   "pygments_lexer": "ipython3",
   "version": "3.8.2"
  }
 },
 "nbformat": 4,
 "nbformat_minor": 1
}
