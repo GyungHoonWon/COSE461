{
 "cells": [
  {
   "cell_type": "markdown",
   "metadata": {
    "colab_type": "text",
    "id": "RciC0tYUHRr1"
   },
   "source": [
    "Spacy 패키지 다운로드"
   ]
  },
  {
   "cell_type": "code",
   "execution_count": null,
   "metadata": {
    "colab": {
     "base_uri": "https://localhost:8080/",
     "height": 317
    },
    "colab_type": "code",
    "executionInfo": {
     "elapsed": 8421,
     "status": "ok",
     "timestamp": 1576137699054,
     "user": {
      "displayName": "Da-Eun Cha",
      "photoUrl": "",
      "userId": "06656530441587978639"
     },
     "user_tz": -540
    },
    "id": "CI82td2WHY89",
    "outputId": "8d38413c-5364-4ea1-be70-4c3063aec22e"
   },
   "outputs": [
    {
     "name": "stdout",
     "output_type": "stream",
     "text": [
      "Collecting spacy==2.1.9\n",
      "  Using cached spacy-2.1.9.tar.gz (30.7 MB)\n",
      "  Installing build dependencies ... \u001b[?25l-"
     ]
    }
   ],
   "source": [
    "!pip install spacy==2.1.9\n",
    "import spacy "
   ]
  },
  {
   "cell_type": "markdown",
   "metadata": {
    "colab_type": "text",
    "id": "DXdJDFOcHbcq"
   },
   "source": [
    "영어 문장의 의존 구문 분석 수행\n",
    "\n",
    "Spacy 모델은 문장을 token들로 구성된 document로 처리한다.\n",
    "\n",
    "각 token에는 품사, 의존 관계, 개체명 정보 등이 태깅된다.\n",
    "\n",
    "이 예제에서 출력하는 정보들은 다음과 같다.\n",
    "\n",
    "- token.text: token 문자열\n",
    "- token.dep_: token과 token의 지배소 간의 의존 관계 유형\n",
    "- token.head: 지배소 token"
   ]
  },
  {
   "cell_type": "code",
   "execution_count": null,
   "metadata": {
    "colab": {},
    "colab_type": "code",
    "id": "rpoD4aESHfuN"
   },
   "outputs": [],
   "source": [
    "# 영어 multi-task 통계 모델\n",
    "nlp = spacy.load('en_core_web_sm')"
   ]
  },
  {
   "cell_type": "code",
   "execution_count": null,
   "metadata": {
    "colab": {},
    "colab_type": "code",
    "id": "i1cPgmN3JKWf"
   },
   "outputs": [],
   "source": [
    "doc = nlp('The fat cat sat on the mat')"
   ]
  },
  {
   "cell_type": "code",
   "execution_count": null,
   "metadata": {
    "colab": {
     "base_uri": "https://localhost:8080/",
     "height": 139
    },
    "colab_type": "code",
    "executionInfo": {
     "elapsed": 522,
     "status": "ok",
     "timestamp": 1576138102760,
     "user": {
      "displayName": "Da-Eun Cha",
      "photoUrl": "",
      "userId": "06656530441587978639"
     },
     "user_tz": -540
    },
    "id": "rufRGDBkJpfN",
    "outputId": "678a454b-4daf-4b1f-e742-55846fb48f07"
   },
   "outputs": [],
   "source": [
    "for token in doc:\n",
    "  print(token.text, token.dep_, token.head.text)"
   ]
  },
  {
   "cell_type": "markdown",
   "metadata": {
    "colab_type": "text",
    "id": "LLlBCKpMPLrh"
   },
   "source": [
    "의존 구문 분석 결과를 시각화한다."
   ]
  },
  {
   "cell_type": "code",
   "execution_count": null,
   "metadata": {
    "colab": {},
    "colab_type": "code",
    "id": "Jgc_TU7BJtVp"
   },
   "outputs": [],
   "source": [
    "from spacy import displacy"
   ]
  },
  {
   "cell_type": "code",
   "execution_count": null,
   "metadata": {
    "colab": {
     "base_uri": "https://localhost:8080/",
     "height": 352
    },
    "colab_type": "code",
    "executionInfo": {
     "elapsed": 508,
     "status": "ok",
     "timestamp": 1576138296629,
     "user": {
      "displayName": "Da-Eun Cha",
      "photoUrl": "",
      "userId": "06656530441587978639"
     },
     "user_tz": -540
    },
    "id": "Rm61faBNJyS_",
    "outputId": "c6efa311-c09c-4345-912d-649458f916d0"
   },
   "outputs": [],
   "source": [
    "# Jupyter, Colab 등에서 동작\n",
    "displacy.render(doc, style='dep', jupyter=True)"
   ]
  },
  {
   "cell_type": "code",
   "execution_count": null,
   "metadata": {},
   "outputs": [],
   "source": [
    "import sys\n",
    "sys.version"
   ]
  },
  {
   "cell_type": "code",
   "execution_count": null,
   "metadata": {},
   "outputs": [],
   "source": []
  }
 ],
 "metadata": {
  "colab": {
   "collapsed_sections": [],
   "name": "자연어처리 교재(실습)_6장_구문분석_6-2.ipynb",
   "provenance": []
  },
  "kernelspec": {
   "display_name": "Python 3",
   "language": "python",
   "name": "python3"
  },
  "language_info": {
   "codemirror_mode": {
    "name": "ipython",
    "version": 3
   },
   "file_extension": ".py",
   "mimetype": "text/x-python",
   "name": "python",
   "nbconvert_exporter": "python",
   "pygments_lexer": "ipython3",
   "version": "3.8.2"
  }
 },
 "nbformat": 4,
 "nbformat_minor": 1
}
